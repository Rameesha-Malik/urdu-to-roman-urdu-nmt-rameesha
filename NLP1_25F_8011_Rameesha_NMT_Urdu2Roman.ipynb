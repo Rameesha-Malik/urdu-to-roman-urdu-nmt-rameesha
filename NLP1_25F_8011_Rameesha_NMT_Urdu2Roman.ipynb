{
  "nbformat": 4,
  "nbformat_minor": 0,
  "metadata": {
    "colab": {
      "provenance": [],
      "collapsed_sections": [
        "G78GdHTBDyDG",
        "FwmWgs-zHa8N",
        "--NKbTs2IbWo"
      ]
    },
    "kernelspec": {
      "name": "python3",
      "display_name": "Python 3"
    },
    "language_info": {
      "name": "python"
    }
  },
  "cells": [
    {
      "cell_type": "markdown",
      "source": [
        "---\n",
        "Name : Rameesha\n",
        "\n",
        "---\n",
        "Department : MSDS\n",
        "\n",
        "---\n",
        "Roll No : 25F-8011\n",
        "\n",
        "---"
      ],
      "metadata": {
        "id": "xjR6PrawVl0l"
      }
    },
    {
      "cell_type": "markdown",
      "source": [
        "[Click to view streamlit Live](https://huggingface.co/spaces/rameesha146/urdu-roman-transliteration-rameesha)\n",
        "\n",
        "---\n",
        "\n",
        "[Click to view github Repository](https://github.com/Rameesha-Malik/urdu-to-roman-urdu-nmt-rameesha)\n",
        "\n",
        "---\n",
        "\n",
        "[Click to view medium blog ](https://medium.com/@rameeshamalik.143/building-an-ai-translator-converting-urdu-text-to-roman-urdu-3b4bab74c159)\n",
        "\n",
        "\n",
        "---\n",
        "[Click to view linkedIn Post](https://lnkd.in/p/dfq4ZHQW)\n",
        "\n",
        "---\n",
        "\n",
        "\n"
      ],
      "metadata": {
        "id": "zouZJmn75C0K"
      }
    },
    {
      "cell_type": "markdown",
      "source": [
        "# Section 1: System Environment Check and Setup"
      ],
      "metadata": {
        "id": "40XZXM_oCwPT"
      }
    },
    {
      "cell_type": "markdown",
      "source": [
        " **Purpose:**\n",
        "\n",
        " Verify the system environment, check Python version, GPU availability,\n",
        "and PyTorch installation before starting the main project work.\n",
        "Run this section first to ensure everything is properly configured."
      ],
      "metadata": {
        "id": "7vDGQlFt6HE_"
      }
    },
    {
      "cell_type": "code",
      "source": [
        "print(\"Starting system environment verification...\")\n",
        "print(\"-\" * 60)\n",
        "\n",
        "# Check Python version information\n",
        "import sys, os\n",
        "print(\"Python Version:\", sys.version.splitlines()[0])\n",
        "\n",
        "# Check GPU availability using nvidia-smi command\n",
        "# This will show GPU information if NVIDIA drivers are installed\n",
        "print(\"\\n-- GPU Information Check --\")\n",
        "print(\"Running nvidia-smi to check for available GPUs...\")\n",
        "os.system(\"nvidia-smi || true\")  # '|| true' prevents error if nvidia-smi not found\n",
        "\n",
        "# Verify PyTorch installation and CUDA support\n",
        "print(\"\\n-- PyTorch and CUDA Verification --\")\n",
        "try:\n",
        "    import torch\n",
        "    print(\"PyTorch Version:\", torch.__version__)\n",
        "    print(\"CUDA Available:\", torch.cuda.is_available())\n",
        "\n",
        "    # If CUDA is available, get detailed GPU information\n",
        "    if torch.cuda.is_available():\n",
        "        try:\n",
        "            print(\"Primary CUDA Device Name:\", torch.cuda.get_device_name(0))\n",
        "            print(\"Total CUDA Devices:\", torch.cuda.device_count())\n",
        "            print(\"Current CUDA Device Index:\", torch.cuda.current_device())\n",
        "        except Exception as e:\n",
        "            print(\"Warning: Couldn't query detailed GPU information:\", e)\n",
        "    else:\n",
        "        print(\"Note: CUDA not available - will use CPU for computations\")\n",
        "\n",
        "except ImportError as e:\n",
        "    print(\"Error: PyTorch not installed or import failed:\", e)\n",
        "    print(\"Please install PyTorch before proceeding\")\n",
        "except Exception as e:\n",
        "    print(\"Unexpected error during PyTorch verification:\", e)\n",
        "\n",
        "print(\"\\n\" + \"-\" * 60)\n",
        "print(\"System environment check completed!\")\n",
        "print(\"If no errors appeared above, you're ready to proceed to the next section.\")"
      ],
      "metadata": {
        "colab": {
          "base_uri": "https://localhost:8080/"
        },
        "id": "nDVYJrCuCzmE",
        "outputId": "469ea17b-4137-4408-bdf5-0a65a0be624d"
      },
      "execution_count": null,
      "outputs": [
        {
          "output_type": "stream",
          "name": "stdout",
          "text": [
            "Starting system environment verification...\n",
            "------------------------------------------------------------\n",
            "Python Version: 3.12.11 (main, Jun  4 2025, 08:56:18) [GCC 11.4.0]\n",
            "\n",
            "-- GPU Information Check --\n",
            "Running nvidia-smi to check for available GPUs...\n",
            "\n",
            "-- PyTorch and CUDA Verification --\n",
            "PyTorch Version: 2.8.0+cu126\n",
            "CUDA Available: False\n",
            "Note: CUDA not available - will use CPU for computations\n",
            "\n",
            "------------------------------------------------------------\n",
            "System environment check completed!\n",
            "If no errors appeared above, you're ready to proceed to the next section.\n"
          ]
        }
      ]
    },
    {
      "cell_type": "markdown",
      "source": [
        "# Section 2: Package Installation and Dependencies"
      ],
      "metadata": {
        "id": "J92Fz9nJDbpV"
      }
    },
    {
      "cell_type": "markdown",
      "source": [
        " **Purpose:**\n",
        "\n",
        "Install all required Python packages for the Neural Machine Translation project.\n",
        "This includes NLP libraries, evaluation metrics, visualization tools, and web deployment.\n",
        "Estimated time: 1-3 minutes depending on internet connection."
      ],
      "metadata": {
        "id": "pE29A22k7dL7"
      }
    },
    {
      "cell_type": "code",
      "source": [
        "print(\"Installing required packages for NMT project...\")\n",
        "print(\"This may take 1-3 minutes depending on your internet connection\")\n",
        "print(\"-\" * 60)\n",
        "\n",
        "# First, upgrade pip to latest version to avoid compatibility issues\n",
        "print(\"Step 1: Upgrading pip to latest version...\")\n",
        "!pip install -q --upgrade pip\n",
        "\n",
        "# Install all required packages with quiet flag (-q) to keep output clean\n",
        "print(\"Step 2: Installing project dependencies...\")\n",
        "print(\"Installing: tokenization, evaluation, ML, and visualization libraries...\")\n",
        "\n",
        "!pip install -q sentencepiece tokenizers transformers sacrebleu editdistance python-Levenshtein pandas numpy tqdm scikit-learn streamlit matplotlib\n",
        "\n",
        "# Package breakdown explanation:\n",
        "# sentencepiece, tokenizers: For text tokenization (BPE, WordPiece)\n",
        "# transformers: HuggingFace library (may be used for comparison or utilities)\n",
        "# sacrebleu: Standard BLEU score evaluation for machine translation\n",
        "# editdistance, python-Levenshtein: For calculating character error rate and edit distance\n",
        "# pandas, numpy: Data manipulation and numerical computations\n",
        "# tqdm: Progress bars for long-running processes\n",
        "# scikit-learn: Machine learning utilities and metrics\n",
        "# streamlit: Web app framework for model deployment\n",
        "# matplotlib: Plotting and visualization\n",
        "\n",
        "print(\"Step 3: All packages installed successfully!\")\n",
        "\n",
        "# Optional: Fresh PyTorch installation\n",
        "# Uncomment the lines below if you need the latest PyTorch version\n",
        "# Note: Google Colab usually comes with a compatible PyTorch version pre-installed\n",
        "# This reinstallation may take additional time and is typically not necessary\n",
        "\n",
        "print(\"\\nOptional: PyTorch reinstallation (currently commented out)\")\n",
        "print(\"Colab typically has compatible PyTorch pre-installed\")\n",
        "print(\"Uncomment the line below only if you encounter PyTorch version issues:\")\n",
        "print(\"# !pip install -q torch torchvision torchaudio\")\n",
        "\n",
        "# Uncomment this line only if you need the latest PyTorch:\n",
        "# !pip install -q torch torchvision torchaudio\n",
        "\n",
        "print(\"\\n\" + \"-\" * 60)\n",
        "print(\"Package installation completed!\")\n",
        "print(\"now proceed to import libraries and start the main project.\")"
      ],
      "metadata": {
        "colab": {
          "base_uri": "https://localhost:8080/"
        },
        "id": "UrcTYNW3DdoY",
        "outputId": "6a124b80-55dc-4c9a-a13a-9369b9c6c3aa"
      },
      "execution_count": null,
      "outputs": [
        {
          "output_type": "stream",
          "name": "stdout",
          "text": [
            "Installing required packages for NMT project...\n",
            "This may take 1-3 minutes depending on your internet connection\n",
            "------------------------------------------------------------\n",
            "Step 1: Upgrading pip to latest version...\n",
            "\u001b[2K   \u001b[90m━━━━━━━━━━━━━━━━━━━━━━━━━━━━━━━━━━━━━━━━\u001b[0m \u001b[32m1.8/1.8 MB\u001b[0m \u001b[31m18.8 MB/s\u001b[0m eta \u001b[36m0:00:00\u001b[0m\n",
            "\u001b[?25hStep 2: Installing project dependencies...\n",
            "Installing: tokenization, evaluation, ML, and visualization libraries...\n",
            "Step 3: All packages installed successfully!\n",
            "\n",
            "Optional: PyTorch reinstallation (currently commented out)\n",
            "Colab typically has compatible PyTorch pre-installed\n",
            "Uncomment the line below only if you encounter PyTorch version issues:\n",
            "# !pip install -q torch torchvision torchaudio\n",
            "\n",
            "------------------------------------------------------------\n",
            "Package installation completed!\n",
            "now proceed to import libraries and start the main project.\n"
          ]
        }
      ]
    },
    {
      "cell_type": "markdown",
      "source": [
        "# Section 3: Library Import Verification and Version Check"
      ],
      "metadata": {
        "id": "G78GdHTBDyDG"
      }
    },
    {
      "cell_type": "markdown",
      "source": [
        "**Purpose:**\n",
        "\n",
        "Verify that all required libraries were installed correctly and can be imported.\n",
        "This section uses safe imports with error handling to identify any missing dependencies\n",
        "before proceeding with the main project code.\n"
      ],
      "metadata": {
        "id": "kLnBvMsY8rHs"
      }
    },
    {
      "cell_type": "code",
      "source": [
        "\n",
        "print(\"Verifying library imports and versions...\")\n",
        "print(\"-\" * 60)\n",
        "\n",
        "# Display Python version for reference\n",
        "import sys\n",
        "print(\"Python Version:\", sys.version.splitlines()[0])\n",
        "\n",
        "# Initialize list to track any failed imports\n",
        "failed_imports = []\n",
        "\n",
        "# Test PyTorch import and CUDA availability\n",
        "print(\"\\n-- Core Deep Learning Framework --\")\n",
        "try:\n",
        "    import torch\n",
        "    print(\"PyTorch Version:\", torch.__version__)\n",
        "    print(\"CUDA Available:\", torch.cuda.is_available())\n",
        "    if torch.cuda.is_available():\n",
        "        print(\"CUDA Device:\", torch.cuda.get_device_name(0))\n",
        "except Exception as e:\n",
        "    failed_imports.append((\"torch\", str(e)))\n",
        "    print(\"PyTorch import failed:\", e)\n",
        "\n",
        "# Test tokenization libraries (for custom BPE implementation)\n",
        "print(\"\\n-- Tokenization Libraries --\")\n",
        "try:\n",
        "    import sentencepiece as smp\n",
        "    # sentencepiece version might not always be available via __version__\n",
        "    spm_version = getattr(smp, \"__version__\", \"version unknown\")\n",
        "    print(\"SentencePiece Version:\", smp_version)\n",
        "except Exception as e:\n",
        "    failed_imports.append((\"sentencepiece\", str(e)))\n",
        "    print(\"SentencePiece import failed:\", e)\n",
        "\n",
        "try:\n",
        "    import tokenizers\n",
        "    print(\"HuggingFace Tokenizers Version:\", tokenizers.__version__)\n",
        "except Exception as e:\n",
        "    failed_imports.append((\"tokenizers\", str(e)))\n",
        "    print(\"Tokenizers import failed:\", e)\n",
        "\n",
        "# Test evaluation libraries (for BLEU scores and metrics)\n",
        "print(\"\\n-- Evaluation Metrics Libraries --\")\n",
        "try:\n",
        "    import sacrebleu\n",
        "    print(\"SacreBLEU Version:\", sacrebleu.__version__)\n",
        "except Exception as e:\n",
        "    failed_imports.append((\"sacrebleu\", str(e)))\n",
        "    print(\"SacreBLEU import failed:\", e)\n",
        "\n",
        "# Test edit distance libraries (for Character Error Rate calculation)\n",
        "print(\"\\n-- Edit Distance Libraries --\")\n",
        "try:\n",
        "    import editdistance\n",
        "    # editdistance library doesn't consistently expose __version__\n",
        "    print(\"EditDistance Library: Successfully imported\")\n",
        "except Exception as e:\n",
        "    failed_imports.append((\"editdistance\", str(e)))\n",
        "    print(\"EditDistance import failed:\", e)\n",
        "\n",
        "try:\n",
        "    import Levenshtein\n",
        "    print(\"Python-Levenshtein Library: Successfully imported\")\n",
        "except Exception as e:\n",
        "    # This is marked as non-fatal since editdistance can be used as fallback\n",
        "    print(\"Python-Levenshtein import failed (this is optional - editdistance will be used as fallback)\")\n",
        "\n",
        "# Test data manipulation and scientific computing libraries\n",
        "print(\"\\n-- Data Science Libraries --\")\n",
        "try:\n",
        "    import pandas as pd\n",
        "    import numpy as np\n",
        "    print(\"Pandas Version:\", pd.__version__)\n",
        "    print(\"NumPy Version:\", np.__version__)\n",
        "except Exception as e:\n",
        "    failed_imports.append((\"pandas/numpy\", str(e)))\n",
        "    print(\"Pandas/NumPy import failed:\", e)\n",
        "\n",
        "# Test additional utility libraries\n",
        "print(\"\\n-- Additional Utilities --\")\n",
        "try:\n",
        "    import matplotlib.pyplot as plt\n",
        "    import matplotlib\n",
        "    print(\"Matplotlib Version:\", matplotlib.__version__)\n",
        "except Exception as e:\n",
        "    print(\"Matplotlib import failed (non-critical):\", e)\n",
        "\n",
        "try:\n",
        "    import tqdm\n",
        "    print(\"TQDM (Progress Bars): Successfully imported\")\n",
        "except Exception as e:\n",
        "    print(\"TQDM import failed (non-critical):\", e)\n",
        "\n",
        "# Summary of import verification\n",
        "print(\"\\n\" + \"-\" * 60)\n",
        "print(\"IMPORT VERIFICATION SUMMARY\")\n",
        "print(\"-\" * 60)\n",
        "\n",
        "if failed_imports:\n",
        "    print(\"CRITICAL: Some core imports failed:\")\n",
        "    for package_name, error_message in failed_imports:\n",
        "        print(f\"  !! {package_name}: {error_message}\")\n",
        "    print(\"\\nPlease re-run the package installation section to fix these issues.\")\n",
        "else:\n",
        "    print(\"All core packages imported successfully!\")\n",
        "    print(\"System is ready for Neural Machine Translation project.\")\n",
        "\n",
        "print(\"\\nNote: Some optional libraries may show warnings but won't prevent the project from running.\")"
      ],
      "metadata": {
        "colab": {
          "base_uri": "https://localhost:8080/"
        },
        "id": "a0xLIAuWDq4-",
        "outputId": "9410af55-ef62-49ad-fc16-ed766d6aff75"
      },
      "execution_count": null,
      "outputs": [
        {
          "output_type": "stream",
          "name": "stdout",
          "text": [
            "Verifying library imports and versions...\n",
            "------------------------------------------------------------\n",
            "Python Version: 3.12.11 (main, Jun  4 2025, 08:56:18) [GCC 11.4.0]\n",
            "\n",
            "-- Core Deep Learning Framework --\n",
            "PyTorch Version: 2.8.0+cu126\n",
            "CUDA Available: False\n",
            "\n",
            "-- Tokenization Libraries --\n",
            "SentencePiece import failed: name 'smp_version' is not defined\n",
            "HuggingFace Tokenizers Version: 0.22.0\n",
            "\n",
            "-- Evaluation Metrics Libraries --\n",
            "SacreBLEU Version: 2.5.1\n",
            "\n",
            "-- Edit Distance Libraries --\n",
            "EditDistance Library: Successfully imported\n",
            "Python-Levenshtein Library: Successfully imported\n",
            "\n",
            "-- Data Science Libraries --\n",
            "Pandas Version: 2.2.2\n",
            "NumPy Version: 2.0.2\n",
            "\n",
            "-- Additional Utilities --\n",
            "Matplotlib Version: 3.10.0\n",
            "TQDM (Progress Bars): Successfully imported\n",
            "\n",
            "------------------------------------------------------------\n",
            "IMPORT VERIFICATION SUMMARY\n",
            "------------------------------------------------------------\n",
            "CRITICAL: Some core imports failed:\n",
            "  !! sentencepiece: name 'smp_version' is not defined\n",
            "\n",
            "Please re-run the package installation section to fix these issues.\n",
            "\n",
            "Note: Some optional libraries may show warnings but won't prevent the project from running.\n"
          ]
        }
      ]
    },
    {
      "cell_type": "markdown",
      "source": [
        "# Section 4: Google Drive Integration & Project Setup"
      ],
      "metadata": {
        "id": "FwmWgs-zHa8N"
      }
    },
    {
      "cell_type": "markdown",
      "source": [
        "**Purpose:**\n",
        "\n",
        " Mount Google Drive for persistent storage and create project directory.\n",
        "Time: ~10-30 seconds (requires user authentication on first run)."
      ],
      "metadata": {
        "id": "HmofQdqq9Fqd"
      }
    },
    {
      "cell_type": "code",
      "source": [
        "# Step 1: Mount Google Drive to access persistent storage\n",
        "# This allows us to save models, data, and results that persist between Colab sessions\n",
        "from google.colab import drive\n",
        "drive.mount('/content/drive')\n",
        "\n",
        "# Step 2: Create dedicated project directory structure\n",
        "# Organizes all project files in a logical hierarchy within your Drive\n",
        "# ANLP = Advanced Natural Language Processing course\n",
        "# A1 = Assignment 1 (Neural Machine Translation project)\n",
        "!mkdir -p /content/drive/MyDrive/ANLP/A1\n",
        "\n",
        "# Step 3: Verify setup completion\n",
        "print(\"Project folder created at /content/drive/MyDrive/ANLP/A1\")\n"
      ],
      "metadata": {
        "colab": {
          "base_uri": "https://localhost:8080/"
        },
        "id": "RJB1eAexEaw-",
        "outputId": "b2a7f9a9-8541-4c16-c1ae-ef12c8ff41bf"
      },
      "execution_count": null,
      "outputs": [
        {
          "output_type": "stream",
          "name": "stdout",
          "text": [
            "Drive already mounted at /content/drive; to attempt to forcibly remount, call drive.mount(\"/content/drive\", force_remount=True).\n",
            "Project folder created at /content/drive/MyDrive/ANLP/A1\n"
          ]
        }
      ]
    },
    {
      "cell_type": "markdown",
      "source": [
        "# Section 5: Core Library Imports & Final Verification"
      ],
      "metadata": {
        "id": "--NKbTs2IbWo"
      }
    },
    {
      "cell_type": "markdown",
      "source": [
        "**Purpose:**\n",
        "\n",
        "Import essential libraries for the project and verify versions.\n",
        "This is a consolidated check after all installations are complete."
      ],
      "metadata": {
        "id": "dbeGBiuQ9aU8"
      }
    },
    {
      "cell_type": "code",
      "source": [
        "# Step 1: Import all core libraries needed for the project\n",
        "import sys, torch, sentencepiece as smp, sacrebleu, pandas as pd\n",
        "\n",
        "# Step 2: Display Python environment information\n",
        "print(\"Python:\", sys.version.splitlines()[0])\n",
        "\n",
        "# Step 3: Verify PyTorch installation and GPU availability\n",
        "print(\"Torch:\", torch.__version__, \"CUDA available:\", torch.cuda.is_available())\n",
        "\n",
        "# Step 4: Show GPU device information if available\n",
        "if torch.cuda.is_available():\n",
        "    print(\"CUDA device:\", torch.cuda.get_device_name(0))\n",
        "\n",
        "# Step 5: Display versions of key NLP and data processing libraries\n",
        "# sentencepiece: For subword tokenization (BPE, WordPiece)\n",
        "# sacrebleu: For BLEU score evaluation (standard NMT metric)\n",
        "# pandas: For data manipulation and results analysis\n",
        "print(\"sentencepiece:\", getattr(smp, \"__version__\", \"unknown\"),\n",
        "      \"sacrebleu:\", sacrebleu.__version__,\n",
        "      \"pandas:\", pd.__version__)\n",
        "\n",
        "\n",
        "# Note: This section serves as a final verification that all critical\n",
        "# libraries are properly installed and compatible with each other\n",
        "# Any import errors here indicate issues that need to be resolved\n",
        "# before proceeding with the implementation"
      ],
      "metadata": {
        "colab": {
          "base_uri": "https://localhost:8080/"
        },
        "id": "bXGkD1-3H96o",
        "outputId": "1d559153-3ed7-4d1f-80c8-81dc11c57f68"
      },
      "execution_count": null,
      "outputs": [
        {
          "output_type": "stream",
          "name": "stdout",
          "text": [
            "Python: 3.12.11 (main, Jun  4 2025, 08:56:18) [GCC 11.4.0]\n",
            "Torch: 2.8.0+cu126 CUDA available: False\n",
            "sentencepiece: 0.2.1 sacrebleu: 2.5.1 pandas: 2.2.2\n"
          ]
        }
      ]
    },
    {
      "cell_type": "markdown",
      "source": [
        "# Section 6: Data Preprocessing Pipeline"
      ],
      "metadata": {
        "id": "tQAYP6EFJUhW"
      }
    },
    {
      "cell_type": "markdown",
      "source": [
        "**Purpose:**\n",
        "\n",
        " Complete preprocessing pipeline for Urdu-Roman, Urdu parallel text\n",
        "includes text normalization, tokenization, and data splitting.\n",
        "Time: ~5-15 minutes depending on dataset size."
      ],
      "metadata": {
        "id": "juQ9HwfI-D-I"
      }
    },
    {
      "cell_type": "code",
      "source": [
        "import os\n",
        "import re\n",
        "import json\n",
        "import pickle\n",
        "import logging\n",
        "from collections import defaultdict, Counter\n",
        "from pathlib import Path\n",
        "from typing import List, Tuple, Dict, Set\n",
        "import random\n",
        "import unicodedata\n",
        "\n",
        "# Step 1: Setup logging for better debugging and monitoring\n",
        "logging.basicConfig(level=logging.INFO)\n",
        "logger = logging.getLogger(__name__)"
      ],
      "metadata": {
        "id": "xkdpAzemJ0lx"
      },
      "execution_count": null,
      "outputs": []
    },
    {
      "cell_type": "markdown",
      "source": [
        "## 6.1 Text Normalization Classes"
      ],
      "metadata": {
        "id": "GWIQltW4J2kt"
      }
    },
    {
      "cell_type": "markdown",
      "source": [
        "**Purpose:** Handle language-specific text cleaning and standardization"
      ],
      "metadata": {
        "id": "aEGE_KxE_L3R"
      }
    },
    {
      "cell_type": "code",
      "source": [
        "class UrduTextNormalizer:\n",
        "    \"\"\"Normalize Urdu text for better processing and consistency\"\"\"\n",
        "\n",
        "    def __init__(self):\n",
        "        # Define Urdu diacritics (zabar, zer, pesh, etc.) for optional removal\n",
        "        self.diacritics = set([\n",
        "            '\\u064B', '\\u064C', '\\u064D', '\\u064E', '\\u064F',  # Short vowels\n",
        "            '\\u0650', '\\u0651', '\\u0652', '\\u0653', '\\u0654',  # Sukun, shadda, etc.\n",
        "            '\\u0655', '\\u0656', '\\u0657', '\\u0658', '\\u0659',  # Additional marks\n",
        "            '\\u065A', '\\u065B', '\\u065C', '\\u065D', '\\u065E',  # More diacritics\n",
        "            '\\u065F', '\\u0670'                                # Superscript alef\n",
        "        ])\n",
        "\n",
        "        # Character mappings for consistent representation\n",
        "        # Maps variant forms to standard forms\n",
        "        self.char_mappings = {\n",
        "            'ي': 'ی',  # Arabic yeh to Urdu yeh\n",
        "            'ك': 'ک',  # Arabic kaf to Urdu kaf\n",
        "            'ء': 'ٔ',  # Different hamza forms\n",
        "        }\n",
        "\n",
        "    def normalize_urdu_text(self, text: str) -> str:\n",
        "        \"\"\"Apply Unicode normalization and character standardization\"\"\"\n",
        "        if not text:\n",
        "            return \"\"\n",
        "\n",
        "        # Step 1: Apply Unicode NFKC normalization for consistent representation\n",
        "        text = unicodedata.normalize('NFKC', text)\n",
        "\n",
        "        # Step 2: Apply character mappings for standard forms\n",
        "        for old_char, new_char in self.char_mappings.items():\n",
        "            text = text.replace(old_char, new_char)\n",
        "\n",
        "        # Step 3: Clean up whitespace\n",
        "        text = re.sub(r'\\s+', ' ', text).strip()\n",
        "        return text\n",
        "\n",
        "    def clean_punctuation(self, text: str) -> str:\n",
        "        \"\"\"Standardize punctuation marks across different Unicode variants\"\"\"\n",
        "        # Normalize different dash types to single hyphen\n",
        "        text = re.sub(r'[—–−]', '-', text)\n",
        "\n",
        "        # Normalize different quote types to standard quotes\n",
        "        text = re.sub(r'[\"\"''`]', '\"', text)\n",
        "\n",
        "        # Clean up excessive punctuation\n",
        "        text = re.sub(r'[۔]{2,}', '۔', text)  # Multiple Urdu periods\n",
        "        text = re.sub(r'[\\.]{2,}', '.', text)  # Multiple English periods\n",
        "        return text\n",
        "\n",
        "class RomanUrduNormalizer:\n",
        "    \"\"\"Normalize Roman Urdu text for consistency\"\"\"\n",
        "\n",
        "    def normalize_roman_urdu(self, text: str) -> str:\n",
        "        \"\"\"Apply basic normalization to Roman Urdu text\"\"\"\n",
        "        if not text:\n",
        "            return \"\"\n",
        "\n",
        "        # Step 1: Convert to lowercase for consistency\n",
        "        text = text.lower()\n",
        "\n",
        "        # Step 2: Clean whitespace\n",
        "        text = re.sub(r'\\s+', ' ', text).strip()\n",
        "\n",
        "        # Step 3: Standardize punctuation (same as Urdu)\n",
        "        text = re.sub(r'[—–−]', '-', text)\n",
        "        text = re.sub(r'[\"\"''`]', '\"', text)\n",
        "        return text"
      ],
      "metadata": {
        "id": "1HTFdpfMKUiz"
      },
      "execution_count": null,
      "outputs": []
    },
    {
      "cell_type": "markdown",
      "source": [
        "## 6.2 Custom BPE Tokenizer"
      ],
      "metadata": {
        "id": "I3avttohKeq9"
      }
    },
    {
      "cell_type": "markdown",
      "source": [
        "**Purpose:** Implement Byte-Pair Encoding for subword tokenization.\n",
        "Optimized for Colab environment with progress tracking."
      ],
      "metadata": {
        "id": "6I2rJGj2_e7E"
      }
    },
    {
      "cell_type": "code",
      "source": [
        "class CustomBPETokenizer:\n",
        "    \"\"\"Custom implementation of Byte-Pair Encoding (BPE) tokenizer\"\"\"\n",
        "\n",
        "    def __init__(self, vocab_size: int = 6000):\n",
        "        self.vocab_size = vocab_size  # Target vocabulary size\n",
        "        self.word_freqs = {}          # Word frequency counts\n",
        "        self.splits = {}              # Current word splits\n",
        "        self.merges = []              # List of merge operations\n",
        "        self.vocab = {}               # Final vocabulary mapping\n",
        "\n",
        "    def _get_word_freqs(self, corpus: List[str]) -> Dict[str, int]:\n",
        "        \"\"\"Count frequency of each word in the corpus\"\"\"\n",
        "        word_freqs = defaultdict(int)\n",
        "        for text in corpus:\n",
        "            words = text.split()\n",
        "            for word in words:\n",
        "                word_freqs[word] += 1\n",
        "        return dict(word_freqs)\n",
        "\n",
        "    def _get_splits(self, word_freqs: Dict[str, int]) -> Dict[str, List[str]]:\n",
        "        \"\"\"Initialize splits by breaking words into characters\"\"\"\n",
        "        splits = {}\n",
        "        for word in word_freqs:\n",
        "            splits[word] = list(word)  # Split into individual characters\n",
        "        return splits\n",
        "\n",
        "    def _compute_pair_freqs(self, splits: Dict[str, List[str]],\n",
        "                           word_freqs: Dict[str, int]) -> Dict[Tuple[str, str], int]:\n",
        "        \"\"\"Count frequency of adjacent character pairs\"\"\"\n",
        "        pair_freqs = defaultdict(int)\n",
        "        for word, freq in word_freqs.items():\n",
        "            split = splits[word]\n",
        "            if len(split) == 1:\n",
        "                continue\n",
        "            # Count all adjacent pairs in this word\n",
        "            for i in range(len(split) - 1):\n",
        "                pair = (split[i], split[i + 1])\n",
        "                pair_freqs[pair] += freq\n",
        "        return dict(pair_freqs)\n",
        "\n",
        "    def _merge_vocab(self, pair: Tuple[str, str], splits: Dict[str, List[str]]) -> Dict[str, List[str]]:\n",
        "        \"\"\"Merge the most frequent pair across all word splits\"\"\"\n",
        "        for word in splits:\n",
        "            split = splits[word]\n",
        "            if len(split) == 1:\n",
        "                continue\n",
        "\n",
        "            i = 0\n",
        "            new_split = []\n",
        "            while i < len(split):\n",
        "                # If we find the pair to merge, combine it\n",
        "                if i < len(split) - 1 and split[i] == pair[0] and split[i + 1] == pair[1]:\n",
        "                    new_split.append(pair[0] + pair[1])\n",
        "                    i += 2\n",
        "                else:\n",
        "                    new_split.append(split[i])\n",
        "                    i += 1\n",
        "            splits[word] = new_split\n",
        "        return splits\n",
        "\n",
        "    def train(self, corpus: List[str]):\n",
        "        \"\"\"Train the BPE tokenizer on the given corpus\"\"\"\n",
        "        print(f\"Training BPE tokenizer (vocab_size={self.vocab_size})...\")\n",
        "\n",
        "        # Step 1: Get word frequencies\n",
        "        self.word_freqs = self._get_word_freqs(corpus)\n",
        "\n",
        "        # Step 2: Initialize splits (characters)\n",
        "        self.splits = self._get_splits(self.word_freqs)\n",
        "\n",
        "        # Step 3: Build initial vocabulary from unique characters\n",
        "        alphabet = set()\n",
        "        for word in self.word_freqs:\n",
        "            alphabet.update(word)\n",
        "\n",
        "        vocab = list(alphabet)\n",
        "\n",
        "        # Step 4: Perform BPE merges (limited for Colab performance)\n",
        "        num_merges = min(self.vocab_size - len(vocab), 4000)  # Limit for speed\n",
        "\n",
        "        for i in range(num_merges):\n",
        "            # Find most frequent pair\n",
        "            pair_freqs = self._compute_pair_freqs(self.splits, self.word_freqs)\n",
        "            if not pair_freqs:\n",
        "                break\n",
        "\n",
        "            best_pair = max(pair_freqs, key=pair_freqs.get)\n",
        "\n",
        "            # Merge the best pair\n",
        "            self.splits = self._merge_vocab(best_pair, self.splits)\n",
        "            self.merges.append(best_pair)\n",
        "            vocab.append(best_pair[0] + best_pair[1])\n",
        "\n",
        "            # Progress tracking\n",
        "            if (i + 1) % 500 == 0:\n",
        "                print(f\"  Progress: {i + 1}/{num_merges} merges completed\")\n",
        "\n",
        "        # Step 5: Create final vocabulary mapping\n",
        "        self.vocab = {token: idx for idx, token in enumerate(vocab)}\n",
        "        print(f\" BPE training complete. Final vocab size: {len(self.vocab)}\")\n",
        "\n",
        "    def tokenize(self, text: str) -> List[str]:\n",
        "        \"\"\"Tokenize text using learned BPE merges\"\"\"\n",
        "        if not text:\n",
        "            return []\n",
        "\n",
        "        words = text.split()\n",
        "        result = []\n",
        "\n",
        "        for word in words:\n",
        "            # Start with character-level splits\n",
        "            splits = list(word)\n",
        "\n",
        "            # Apply all learned merges in order\n",
        "            for pair in self.merges:\n",
        "                i = 0\n",
        "                new_splits = []\n",
        "                while i < len(splits):\n",
        "                    if (i < len(splits) - 1 and\n",
        "                        splits[i] == pair[0] and\n",
        "                        splits[i + 1] == pair[1]):\n",
        "                        new_splits.append(pair[0] + pair[1])\n",
        "                        i += 2\n",
        "                    else:\n",
        "                        new_splits.append(splits[i])\n",
        "                        i += 1\n",
        "                splits = new_splits\n",
        "\n",
        "            result.extend(splits)\n",
        "\n",
        "        return result\n",
        "\n",
        "    def save(self, filepath: str):\n",
        "        \"\"\"Save trained tokenizer to file\"\"\"\n",
        "        os.makedirs(os.path.dirname(filepath), exist_ok=True)\n",
        "        with open(filepath, 'wb') as f:\n",
        "            pickle.dump({\n",
        "                'vocab_size': self.vocab_size,\n",
        "                'word_freqs': self.word_freqs,\n",
        "                'merges': self.merges,\n",
        "                'vocab': self.vocab\n",
        "            }, f)\n",
        "\n",
        "    def load(self, filepath: str):\n",
        "        \"\"\"Load trained tokenizer from file\"\"\"\n",
        "        with open(filepath, 'rb') as f:\n",
        "            data = pickle.load(f)\n",
        "            self.vocab_size = data['vocab_size']\n",
        "            self.word_freqs = data['word_freqs']\n",
        "            self.merges = data['merges']\n",
        "            self.vocab = data['vocab']"
      ],
      "metadata": {
        "id": "ImbJU-9xK2O6"
      },
      "execution_count": null,
      "outputs": []
    },
    {
      "cell_type": "markdown",
      "source": [
        "## 6.3 Main Dataset Processor Class"
      ],
      "metadata": {
        "id": "_IN7YCoAK9Bi"
      }
    },
    {
      "cell_type": "markdown",
      "source": [
        "**Purpose:** Plan the complete preprocessing pipeline."
      ],
      "metadata": {
        "id": "DSXNqMk6AI_E"
      }
    },
    {
      "cell_type": "code",
      "source": [
        "class FixedDatasetProcessor:\n",
        "    \"\"\"Main class to handle complete dataset preprocessing pipeline\"\"\"\n",
        "\n",
        "    def __init__(self, data_path: str, output_dir: str = \"processed_data\"):\n",
        "        self.data_path = Path(data_path)\n",
        "        self.output_dir = Path(output_dir)\n",
        "        self.output_dir.mkdir(exist_ok=True)\n",
        "\n",
        "        # Initialize text normalizers\n",
        "        self.urdu_normalizer = UrduTextNormalizer()\n",
        "        self.roman_normalizer = RomanUrduNormalizer()\n",
        "\n",
        "    def load_all_pairs(self):\n",
        "        \"\"\"Load all Urdu-Roman parallel text pairs from the dataset\"\"\"\n",
        "        print(\" Loading all text pairs...\")\n",
        "        all_pairs = []\n",
        "\n",
        "        # Step 1: Find all poet directories\n",
        "        poet_dirs = [d for d in self.data_path.iterdir() if d.is_dir()]\n",
        "        print(f\"Found {len(poet_dirs)} poets\")\n",
        "\n",
        "        for poet_dir in poet_dirs:\n",
        "            print(f\"Processing: {poet_dir.name}\")\n",
        "\n",
        "            ur_dir = poet_dir / 'ur'  # Urdu text directory\n",
        "            en_dir = poet_dir / 'en'  # English/Roman text directory\n",
        "\n",
        "            if not (ur_dir.exists() and en_dir.exists()):\n",
        "                print(f\"  Skipping {poet_dir.name} - missing folders\")\n",
        "                continue\n",
        "\n",
        "            # Step 2: Get all files from both directories\n",
        "            ur_files = [f for f in ur_dir.iterdir() if f.is_file()]\n",
        "            en_files = [f for f in en_dir.iterdir() if f.is_file()]\n",
        "\n",
        "            # Step 3: Match files by filename (without extension)\n",
        "            ur_stems = {f.stem: f for f in ur_files}\n",
        "            en_stems = {f.stem: f for f in en_files}\n",
        "\n",
        "            common_stems = set(ur_stems.keys()) & set(en_stems.keys())\n",
        "            print(f\"  Found {len(common_stems)} matching poems\")\n",
        "\n",
        "            # Step 4: Read matching file pairs\n",
        "            for stem in common_stems:\n",
        "                try:\n",
        "                    ur_file = ur_stems[stem]\n",
        "                    en_file = en_stems[stem]\n",
        "\n",
        "                    with open(ur_file, 'r', encoding='utf-8') as f:\n",
        "                        urdu_text = f.read().strip()\n",
        "\n",
        "                    with open(en_file, 'r', encoding='utf-8') as f:\n",
        "                        roman_text = f.read().strip()\n",
        "\n",
        "                    if urdu_text and roman_text:\n",
        "                        all_pairs.append((urdu_text, roman_text))\n",
        "\n",
        "                except Exception as e:\n",
        "                    print(f\" Error reading {stem}: {e}\")\n",
        "\n",
        "        print(f\" Loaded {len(all_pairs)} total pairs\")\n",
        "        return all_pairs\n",
        "\n",
        "    def preprocess_pairs(self, pairs):\n",
        "        \"\"\"Clean and normalize all text pairs\"\"\"\n",
        "        print(\" Preprocessing pairs...\")\n",
        "        clean_pairs = []\n",
        "\n",
        "        for urdu, roman in pairs:\n",
        "            # Step 1: Apply normalization\n",
        "            urdu_clean = self.urdu_normalizer.normalize_urdu_text(urdu)\n",
        "            urdu_clean = self.urdu_normalizer.clean_punctuation(urdu_clean)\n",
        "\n",
        "            roman_clean = self.roman_normalizer.normalize_roman_urdu(roman)\n",
        "\n",
        "            # Step 2: Quality filtering (poetry-friendly limits)\n",
        "            urdu_words = len(urdu_clean.split())\n",
        "            roman_words = len(roman_clean.split())\n",
        "\n",
        "            # Keep pairs with reasonable word counts for poetry\n",
        "            if 2 <= urdu_words <= 100 and 2 <= roman_words <= 100:\n",
        "                clean_pairs.append((urdu_clean, roman_clean))\n",
        "\n",
        "        print(f\" Cleaned {len(clean_pairs)} pairs\")\n",
        "        return clean_pairs\n",
        "\n",
        "    def split_data(self, pairs):\n",
        "        \"\"\"Split data into train/validation/test sets (50%/25%/25%)\"\"\"\n",
        "        print(\" Splitting data...\")\n",
        "        random.seed(42)  # For reproducible splits\n",
        "        pairs = pairs.copy()\n",
        "        random.shuffle(pairs)\n",
        "\n",
        "        total = len(pairs)\n",
        "        train_end = int(0.5 * total)\n",
        "        val_end = int(0.75 * total)\n",
        "\n",
        "        train_pairs = pairs[:train_end]\n",
        "        val_pairs = pairs[train_end:val_end]\n",
        "        test_pairs = pairs[val_end:]\n",
        "\n",
        "        print(f\" Split - Train: {len(train_pairs)}, Val: {len(val_pairs)}, Test: {len(test_pairs)}\")\n",
        "        return train_pairs, val_pairs, test_pairs\n",
        "\n",
        "    def train_tokenizers(self, train_pairs, vocab_size=6000):\n",
        "        \"\"\"Train BPE tokenizers for both Urdu and Roman Urdu\"\"\"\n",
        "        print(\" Training tokenizers...\")\n",
        "\n",
        "        urdu_texts = [pair[0] for pair in train_pairs]\n",
        "        roman_texts = [pair[1] for pair in train_pairs]\n",
        "\n",
        "        # Train separate tokenizers for each language\n",
        "        print(\"Training Urdu tokenizer...\")\n",
        "        self.urdu_tokenizer = CustomBPETokenizer(vocab_size=vocab_size)\n",
        "        self.urdu_tokenizer.train(urdu_texts)\n",
        "        self.urdu_tokenizer.save(str(self.output_dir / 'urdu_tokenizer.pkl'))\n",
        "\n",
        "        print(\"Training Roman tokenizer...\")\n",
        "        self.roman_tokenizer = CustomBPETokenizer(vocab_size=vocab_size)\n",
        "        self.roman_tokenizer.train(roman_texts)\n",
        "        self.roman_tokenizer.save(str(self.output_dir / 'roman_tokenizer.pkl'))\n",
        "\n",
        "        print(\" Tokenizers trained and saved!\")\n",
        "\n",
        "    def save_data(self, train_pairs, val_pairs, test_pairs):\n",
        "        \"\"\"Save all processed data in multiple formats\"\"\"\n",
        "        print(\" Saving processed data...\")\n",
        "\n",
        "        splits = [('train', train_pairs), ('val', val_pairs), ('test', test_pairs)]\n",
        "\n",
        "        # Step 1: Save raw text pairs (tab-separated)\n",
        "        for split_name, pairs in splits:\n",
        "            with open(self.output_dir / f'{split_name}_pairs.txt', 'w', encoding='utf-8') as f:\n",
        "                for urdu, roman in pairs:\n",
        "                    f.write(f\"{urdu}\\t{roman}\\n\")\n",
        "\n",
        "        # Step 2: Save tokenized data (JSON format for easy loading)\n",
        "        if hasattr(self, 'urdu_tokenizer') and hasattr(self, 'roman_tokenizer'):\n",
        "            print(\" Saving tokenized data...\")\n",
        "            for split_name, pairs in splits:\n",
        "                tokenized_pairs = []\n",
        "                for urdu, roman in pairs:\n",
        "                    urdu_tokens = self.urdu_tokenizer.tokenize(urdu)\n",
        "                    roman_tokens = self.roman_tokenizer.tokenize(roman)\n",
        "                    tokenized_pairs.append((urdu_tokens, roman_tokens))\n",
        "\n",
        "                with open(self.output_dir / f'{split_name}_tokenized.json', 'w', encoding='utf-8') as f:\n",
        "                    json.dump(tokenized_pairs, f, ensure_ascii=False, indent=2)\n",
        "\n",
        "        # Step 3: Save dataset statistics\n",
        "        stats = {\n",
        "            'total_pairs': len(train_pairs) + len(val_pairs) + len(test_pairs),\n",
        "            'train_pairs': len(train_pairs),\n",
        "            'val_pairs': len(val_pairs),\n",
        "            'test_pairs': len(test_pairs),\n",
        "            'avg_urdu_length': sum(len(p[0].split()) for p in train_pairs) / len(train_pairs) if train_pairs else 0,\n",
        "            'avg_roman_length': sum(len(p[1].split()) for p in train_pairs) / len(train_pairs) if train_pairs else 0,\n",
        "        }\n",
        "\n",
        "        if hasattr(self, 'urdu_tokenizer'):\n",
        "            stats['urdu_vocab_size'] = len(self.urdu_tokenizer.vocab)\n",
        "            stats['roman_vocab_size'] = len(self.roman_tokenizer.vocab)\n",
        "\n",
        "        with open(self.output_dir / 'dataset_stats.json', 'w') as f:\n",
        "            json.dump(stats, f, indent=2)\n",
        "\n",
        "        print(\" All data saved successfully!\")\n",
        "        return stats\n",
        "\n",
        "    def run_complete_pipeline(self, vocab_size=6000):\n",
        "        \"\"\"Execute the complete preprocessing pipeline\"\"\"\n",
        "        print(\" Starting complete preprocessing pipeline...\")\n",
        "\n",
        "        # Pipeline steps in order\n",
        "        raw_pairs = self.load_all_pairs()\n",
        "        if not raw_pairs:\n",
        "            raise ValueError(\" No pairs loaded! Check data path.\")\n",
        "\n",
        "        clean_pairs = self.preprocess_pairs(raw_pairs)\n",
        "        if not clean_pairs:\n",
        "            raise ValueError(\" No valid pairs after preprocessing!\")\n",
        "\n",
        "        train_pairs, val_pairs, test_pairs = self.split_data(clean_pairs)\n",
        "        self.train_tokenizers(train_pairs, vocab_size=vocab_size)\n",
        "        stats = self.save_data(train_pairs, val_pairs, test_pairs)\n",
        "\n",
        "        print(\"\\n PREPROCESSING COMPLETED SUCCESSFULLY!\")\n",
        "        print(\" Final Statistics:\")\n",
        "        for key, value in stats.items():\n",
        "            if isinstance(value, float):\n",
        "                print(f\"  {key}: {value:.2f}\")\n",
        "            else:\n",
        "                print(f\"  {key}: {value:,}\")\n",
        "\n",
        "        return stats"
      ],
      "metadata": {
        "id": "8fqM0r2iLWRo"
      },
      "execution_count": null,
      "outputs": []
    },
    {
      "cell_type": "markdown",
      "source": [
        "## 6.4 Pipeline Execution"
      ],
      "metadata": {
        "id": "iJ1Ns_QXNV6_"
      }
    },
    {
      "cell_type": "markdown",
      "source": [
        "**Purpose:** Run the complete preprocessing pipeline with your data."
      ],
      "metadata": {
        "id": "SpQiyYmiAwCe"
      }
    },
    {
      "cell_type": "code",
      "source": [
        "# Configuration - Update these paths for your setup\n",
        "DATA_PATH = \"/content/drive/MyDrive/ANLP/A1/dataset/urdu_ghazals_rekhta-main/dataset/dataset/dataset\"\n",
        "OUTPUT_DIR = \"processed_data\"\n",
        "VOCAB_SIZE = 6000\n",
        "\n",
        "print(f\" Data path: {DATA_PATH}\")\n",
        "print(f\" Output path: {OUTPUT_DIR}\")\n",
        "print(f\" Vocabulary size: {VOCAB_SIZE}\")\n",
        "\n",
        "# Initialize and run the processor\n",
        "processor = FixedDatasetProcessor(DATA_PATH, OUTPUT_DIR)\n",
        "\n",
        "processor = FixedDatasetProcessor(\n",
        "    data_path=\"/content/drive/MyDrive/ANLP/A1/dataset/urdu_ghazals_rekhta-main/dataset/dataset/dataset\",\n",
        "   output_dir=\"/content/drive/MyDrive/ANLP/A1/processed_data\"\n",
        ")\n",
        "\n",
        "\n",
        "try:\n",
        "    # Execute complete pipeline\n",
        "    final_stats = processor.run_complete_pipeline(vocab_size=VOCAB_SIZE)\n",
        "\n",
        "    print(\"\\n\" + \"-\"*60)\n",
        "    print(\" SUCCESS! PREPROCESSING PIPELINE COMPLETED!\")\n",
        "    print(\"-\"*60)\n",
        "    print(\"\\n Generated files:\")\n",
        "\n",
        "    # Verify all expected files were created\n",
        "    output_files = [\n",
        "        'train_pairs.txt', 'val_pairs.txt', 'test_pairs.txt',\n",
        "        'train_tokenized.json', 'val_tokenized.json', 'test_tokenized.json',\n",
        "        'urdu_tokenizer.pkl', 'roman_tokenizer.pkl', 'dataset_stats.json'\n",
        "    ]\n",
        "\n",
        "    for filename in output_files:\n",
        "        filepath = f'processed_data/{filename}'\n",
        "        if os.path.exists(filepath):\n",
        "            size = os.path.getsize(filepath)\n",
        "            print(f\" {filename}: {size:,} bytes\")\n",
        "        else:\n",
        "            print(f\" {filename}: Missing\")\n",
        "\n",
        "    print(f\"\\n Ready for model training!\")\n",
        "    print(f\" You have {final_stats['total_pairs']:,} total text pairs\")\n",
        "    print(f\" Train: {final_stats['train_pairs']:,} pairs\")\n",
        "    print(f\" Val: {final_stats['val_pairs']:,} pairs\")\n",
        "    print(f\" Test: {final_stats['test_pairs']:,} pairs\")\n",
        "\n",
        "except Exception as e:\n",
        "    print(f\" Error during preprocessing: {e}\")\n",
        "    import traceback\n",
        "    traceback.print_exc()"
      ],
      "metadata": {
        "colab": {
          "base_uri": "https://localhost:8080/"
        },
        "id": "no6RYWoTNdjE",
        "outputId": "ccb13c31-8333-4071-fcf4-b40dd00e42fb"
      },
      "execution_count": null,
      "outputs": [
        {
          "output_type": "stream",
          "name": "stdout",
          "text": [
            " Data path: /content/drive/MyDrive/ANLP/A1/dataset/urdu_ghazals_rekhta-main/dataset/dataset/dataset\n",
            " Output path: processed_data\n",
            " Vocabulary size: 6000\n",
            " Starting complete preprocessing pipeline...\n",
            " Loading all text pairs...\n",
            "Found 30 poets\n",
            "Processing: waseem-barelvi\n",
            "  Found 50 matching poems\n",
            "Processing: wali-mohammad-wali\n",
            "  Found 40 matching poems\n",
            "Processing: sahir-ludhianvi\n",
            "  Found 50 matching poems\n",
            "Processing: nida-fazli\n",
            "  Found 50 matching poems\n",
            "Processing: parveen-shakir\n",
            "  Found 50 matching poems\n",
            "Processing: noon-meem-rashid\n",
            "  Found 4 matching poems\n",
            "Processing: nazm-tabatabai\n",
            "  Found 26 matching poems\n",
            "Processing: naseer-turabi\n",
            "  Found 16 matching poems\n",
            "Processing: naji-shakir\n",
            "  Found 10 matching poems\n",
            "Processing: mohsin-naqvi\n",
            "  Found 44 matching poems\n",
            "Processing: mirza-ghalib\n",
            "  Found 234 matching poems\n",
            "Processing: meer-taqi-meer\n",
            "  Found 50 matching poems\n",
            "Processing: meer-anees\n",
            "  Found 9 matching poems\n",
            "Processing: kaifi-azmi\n",
            "  Found 16 matching poems\n",
            "Processing: jigar-moradabadi\n",
            "  Found 50 matching poems\n",
            "Processing: javed-akhtar\n",
            "  Found 50 matching poems\n",
            "Processing: jaun-eliya\n",
            "  Found 50 matching poems\n",
            "Processing: jaan-nisar-akhtar\n",
            "  Found 42 matching poems\n",
            "Processing: habib-jalib\n",
            "  Found 50 matching poems\n",
            "Processing: gulzar\n",
            "  Found 38 matching poems\n",
            "Processing: firaq-gorakhpuri\n",
            "  Found 50 matching poems\n",
            "Processing: faiz-ahmad-faiz\n",
            "  Found 50 matching poems\n",
            "Processing: fahmida-riaz\n",
            "  Found 6 matching poems\n",
            "Processing: dagh-dehlvi\n",
            "  Found 50 matching poems\n",
            "Processing: bahadur-shah-zafar\n",
            "  Found 50 matching poems\n",
            "Processing: ameer-khusrau\n",
            "  Found 1 matching poems\n",
            "Processing: altaf-hussain-hali\n",
            "  Found 28 matching poems\n",
            "Processing: allama-iqbal\n",
            "  Found 50 matching poems\n",
            "Processing: akbar-allahabadi\n",
            "  Found 50 matching poems\n",
            "Processing: ahmad-faraz\n",
            "  Found 50 matching poems\n",
            " Loaded 1314 total pairs\n",
            " Preprocessing pairs...\n",
            " Cleaned 486 pairs\n",
            " Splitting data...\n",
            " Split - Train: 243, Val: 121, Test: 122\n",
            " Training tokenizers...\n",
            "Training Urdu tokenizer...\n",
            "Training BPE tokenizer (vocab_size=6000)...\n",
            "  Progress: 500/4000 merges completed\n",
            "  Progress: 1000/4000 merges completed\n",
            "  Progress: 1500/4000 merges completed\n",
            "  Progress: 2000/4000 merges completed\n",
            "  Progress: 2500/4000 merges completed\n",
            "  Progress: 3000/4000 merges completed\n",
            "  Progress: 3500/4000 merges completed\n",
            "  Progress: 4000/4000 merges completed\n",
            " BPE training complete. Final vocab size: 4051\n",
            "Training Roman tokenizer...\n",
            "Training BPE tokenizer (vocab_size=6000)...\n",
            "  Progress: 500/4000 merges completed\n",
            "  Progress: 1000/4000 merges completed\n",
            "  Progress: 1500/4000 merges completed\n",
            "  Progress: 2000/4000 merges completed\n",
            "  Progress: 2500/4000 merges completed\n",
            "  Progress: 3000/4000 merges completed\n",
            "  Progress: 3500/4000 merges completed\n",
            "  Progress: 4000/4000 merges completed\n",
            " BPE training complete. Final vocab size: 4037\n",
            " Tokenizers trained and saved!\n",
            " Saving processed data...\n",
            " Saving tokenized data...\n",
            " All data saved successfully!\n",
            "\n",
            " PREPROCESSING COMPLETED SUCCESSFULLY!\n",
            " Final Statistics:\n",
            "  total_pairs: 486\n",
            "  train_pairs: 243\n",
            "  val_pairs: 121\n",
            "  test_pairs: 122\n",
            "  avg_urdu_length: 79.52\n",
            "  avg_roman_length: 73.87\n",
            "  urdu_vocab_size: 4,051\n",
            "  roman_vocab_size: 4,037\n",
            "\n",
            "------------------------------------------------------------\n",
            " SUCCESS! PREPROCESSING PIPELINE COMPLETED!\n",
            "------------------------------------------------------------\n",
            "\n",
            " Generated files:\n",
            " train_pairs.txt: Missing\n",
            " val_pairs.txt: Missing\n",
            " test_pairs.txt: Missing\n",
            " train_tokenized.json: Missing\n",
            " val_tokenized.json: Missing\n",
            " test_tokenized.json: Missing\n",
            " urdu_tokenizer.pkl: Missing\n",
            " roman_tokenizer.pkl: Missing\n",
            " dataset_stats.json: Missing\n",
            "\n",
            " Ready for model training!\n",
            " You have 486 total text pairs\n",
            " Train: 243 pairs\n",
            " Val: 121 pairs\n",
            " Test: 122 pairs\n"
          ]
        }
      ]
    },
    {
      "cell_type": "markdown",
      "source": [
        "# SECTION 7: Neural Machine Translation Model Architecture"
      ],
      "metadata": {
        "id": "f8nA2_JDPYbb"
      }
    },
    {
      "cell_type": "markdown",
      "source": [
        "**Purpose:**\n",
        "\n",
        "Implement BiLSTM encoder-decoder model for Urdu to Roman Urdu translation.\n",
        "Architecture: BiLSTM encoder (2 layers) + LSTM decoder (4 layers) as per assignment.\n",
        "Time: Model training will take 15-45 minutes depending on data size and hardware."
      ],
      "metadata": {
        "id": "LDeTp6WZBDNJ"
      }
    },
    {
      "cell_type": "code",
      "source": [
        "import torch\n",
        "import torch.nn as nn\n",
        "import torch.optim as optim\n",
        "import torch.nn.functional as F\n",
        "from torch.utils.data import Dataset, DataLoader\n",
        "from torch.nn.utils.rnn import pad_sequence, pack_padded_sequence, pad_packed_sequence\n",
        "\n",
        "import json\n",
        "import pickle\n",
        "import numpy as np\n",
        "from typing import List, Tuple, Dict\n",
        "import random\n",
        "from tqdm import tqdm\n",
        "import matplotlib.pyplot as plt\n",
        "import os\n",
        "\n",
        "# Step 1: Environment setup and reproducibility\n",
        "device = torch.device('cuda' if torch.cuda.is_available() else 'cpu')\n",
        "print(f\"Using device: {device}\")\n",
        "\n",
        "# Set all random seeds for reproducible results across runs\n",
        "torch.manual_seed(42)\n",
        "np.random.seed(42)\n",
        "random.seed(42)\n",
        "if torch.cuda.is_available():\n",
        "    torch.cuda.manual_seed(42)"
      ],
      "metadata": {
        "colab": {
          "base_uri": "https://localhost:8080/"
        },
        "id": "382g-pv0QuTo",
        "outputId": "078979f9-af47-4574-d614-2964d61417ad"
      },
      "execution_count": null,
      "outputs": [
        {
          "output_type": "stream",
          "name": "stdout",
          "text": [
            "Using device: cpu\n"
          ]
        }
      ]
    },
    {
      "cell_type": "markdown",
      "source": [
        "## 7.1 Dataset Class for Seq-to-Seq Data\n"
      ],
      "metadata": {
        "id": "9HXO-DeMRHzg"
      }
    },
    {
      "cell_type": "markdown",
      "source": [
        "**Purpose:** Handle tokenized Urdu-Roman pairs with proper padding and indexing."
      ],
      "metadata": {
        "id": "PU7anEaVDlNl"
      }
    },
    {
      "cell_type": "code",
      "source": [
        "class UrduRomanDataset(Dataset):\n",
        "    \"\"\"Dataset class for handling Urdu to Roman Urdu translation pairs\"\"\"\n",
        "\n",
        "    def __init__(self, tokenized_pairs, urdu_vocab, roman_vocab, max_length=100):\n",
        "        \"\"\"\n",
        "        Initialize dataset with tokenized pairs and vocabularies\n",
        "\n",
        "        Args:\n",
        "            tokenized_pairs: List of (urdu_tokens, roman_tokens) tuples\n",
        "            urdu_vocab: Dictionary mapping Urdu tokens to indices\n",
        "            roman_vocab: Dictionary mapping Roman tokens to indices\n",
        "            max_length: Maximum sequence length (longer sequences will be truncated)\n",
        "        \"\"\"\n",
        "        self.pairs = tokenized_pairs\n",
        "        self.urdu_vocab = urdu_vocab\n",
        "        self.roman_vocab = roman_vocab\n",
        "        self.max_length = max_length\n",
        "\n",
        "        # Create reverse mappings for converting indices back to tokens\n",
        "        self.urdu_idx2token = {idx: token for token, idx in urdu_vocab.items()}\n",
        "        self.roman_idx2token = {idx: token for token, idx in roman_vocab.items()}\n",
        "\n",
        "        # Define special token indices (standard in seq2seq models)\n",
        "        self.SOS_token = 0  # Start of sequence - begins target sequences\n",
        "        self.EOS_token = 1  # End of sequence - marks sequence completion\n",
        "        self.PAD_token = 2  # Padding - fills shorter sequences in batches\n",
        "        self.UNK_token = 3  # Unknown - handles out-of-vocabulary tokens\n",
        "\n",
        "        # Ensure special tokens exist in vocabularies\n",
        "        self._add_special_tokens()\n",
        "\n",
        "    def _add_special_tokens(self):\n",
        "        \"\"\"Add special tokens to vocabularies if not already present\"\"\"\n",
        "        special_tokens = ['<SOS>', '<EOS>', '<PAD>', '<UNK>']\n",
        "\n",
        "        for i, token in enumerate(special_tokens):\n",
        "            if token not in self.urdu_vocab:\n",
        "                self.urdu_vocab[token] = i\n",
        "                self.urdu_idx2token[i] = token\n",
        "            if token not in self.roman_vocab:\n",
        "                self.roman_vocab[token] = i\n",
        "                self.roman_idx2token[i] = token\n",
        "\n",
        "    def tokens_to_indices(self, tokens, vocab, add_special=True):\n",
        "        \"\"\"Convert list of tokens to list of vocabulary indices\"\"\"\n",
        "        indices = []\n",
        "\n",
        "        # Add start-of-sequence token for target sequences\n",
        "        if add_special:\n",
        "            indices.append(self.SOS_token)\n",
        "\n",
        "        # Convert each token to its vocabulary index\n",
        "        for token in tokens:\n",
        "            if token in vocab:\n",
        "                indices.append(vocab[token])\n",
        "            else:\n",
        "                indices.append(self.UNK_token)  # Handle unknown tokens\n",
        "\n",
        "        # Add end-of-sequence token\n",
        "        if add_special:\n",
        "            indices.append(self.EOS_token)\n",
        "\n",
        "        return indices\n",
        "\n",
        "    def __len__(self):\n",
        "        return len(self.pairs)\n",
        "\n",
        "    def __getitem__(self, idx):\n",
        "        \"\"\"Get a single training example as tensors\"\"\"\n",
        "        urdu_tokens, roman_tokens = self.pairs[idx]\n",
        "\n",
        "        # Convert tokens to indices\n",
        "        urdu_indices = self.tokens_to_indices(urdu_tokens, self.urdu_vocab)\n",
        "        roman_indices = self.tokens_to_indices(roman_tokens, self.roman_vocab)\n",
        "\n",
        "        # Truncate sequences that exceed maximum length\n",
        "        if len(urdu_indices) > self.max_length:\n",
        "            urdu_indices = urdu_indices[:self.max_length-1] + [self.EOS_token]\n",
        "        if len(roman_indices) > self.max_length:\n",
        "            roman_indices = roman_indices[:self.max_length-1] + [self.EOS_token]\n",
        "\n",
        "        return {\n",
        "            'urdu': torch.tensor(urdu_indices, dtype=torch.long),\n",
        "            'roman': torch.tensor(roman_indices, dtype=torch.long),\n",
        "            'urdu_length': len(urdu_indices),\n",
        "            'roman_length': len(roman_indices)\n",
        "        }\n",
        "\n",
        "def collate_fn(batch):\n",
        "    \"\"\"Custom collate function for batching variable-length sequences\"\"\"\n",
        "    # Extract sequences and lengths from batch\n",
        "    urdu_seqs = [item['urdu'] for item in batch]\n",
        "    roman_seqs = [item['roman'] for item in batch]\n",
        "    urdu_lengths = [item['urdu_length'] for item in batch]\n",
        "    roman_lengths = [item['roman_length'] for item in batch]\n",
        "\n",
        "    # Pad sequences to same length within batch (PAD_token = 2)\n",
        "    urdu_padded = pad_sequence(urdu_seqs, batch_first=True, padding_value=2)\n",
        "    roman_padded = pad_sequence(roman_seqs, batch_first=True, padding_value=2)\n",
        "\n",
        "    return {\n",
        "        'urdu': urdu_padded,\n",
        "        'roman': roman_padded,\n",
        "        'urdu_lengths': torch.tensor(urdu_lengths),\n",
        "        'roman_lengths': torch.tensor(roman_lengths)\n",
        "    }"
      ],
      "metadata": {
        "id": "rIpJI5FRRKx8"
      },
      "execution_count": null,
      "outputs": []
    },
    {
      "cell_type": "markdown",
      "source": [
        "## 7.2 BILSTM Encoder Architecture\n"
      ],
      "metadata": {
        "id": "OCG1epVHRafW"
      }
    },
    {
      "cell_type": "markdown",
      "source": [
        "**Purpose:** Bidirectional LSTM to encode Urdu input sequences."
      ],
      "metadata": {
        "id": "Aml3AKtfECZZ"
      }
    },
    {
      "cell_type": "code",
      "source": [
        "class BiLSTMEncoder(nn.Module):\n",
        "    \"\"\"Bidirectional LSTM Encoder (2 layers as required by assignment)\"\"\"\n",
        "\n",
        "    def __init__(self, vocab_size, embedding_dim, hidden_size, num_layers=2, dropout=0.3):\n",
        "        \"\"\"\n",
        "        Initialize the bidirectional LSTM encoder\n",
        "\n",
        "        Args:\n",
        "            vocab_size: Size of input vocabulary\n",
        "            embedding_dim: Dimension of word embeddings\n",
        "            hidden_size: Hidden state dimension (per direction)\n",
        "            num_layers: Number of LSTM layers (default: 2)\n",
        "            dropout: Dropout rate for regularization\n",
        "        \"\"\"\n",
        "        super(BiLSTMEncoder, self).__init__()\n",
        "\n",
        "        self.hidden_size = hidden_size\n",
        "        self.num_layers = num_layers\n",
        "\n",
        "        # Word embedding layer (with padding token ignored)\n",
        "        self.embedding = nn.Embedding(vocab_size, embedding_dim, padding_idx=2)\n",
        "\n",
        "        # Bidirectional LSTM layers\n",
        "        self.lstm = nn.LSTM(\n",
        "            embedding_dim,\n",
        "            hidden_size,\n",
        "            num_layers=num_layers,\n",
        "            batch_first=True,\n",
        "            dropout=dropout if num_layers > 1 else 0,  # No dropout for single layer\n",
        "            bidirectional=True  # Key: bidirectional processing\n",
        "        )\n",
        "\n",
        "        self.dropout = nn.Dropout(dropout)\n",
        "\n",
        "    def forward(self, input_seq, lengths):\n",
        "        \"\"\"\n",
        "        Forward pass through the encoder\n",
        "\n",
        "        Args:\n",
        "            input_seq: Batch of input sequences [batch_size, seq_len]\n",
        "            lengths: Actual lengths of sequences (before padding)\n",
        "\n",
        "        Returns:\n",
        "            output: Encoder outputs for each timestep\n",
        "            (hidden, cell): Final hidden and cell states (concatenated bidirectional)\n",
        "        \"\"\"\n",
        "        batch_size = input_seq.size(0)\n",
        "\n",
        "        # Step 1: Convert indices to embeddings\n",
        "        embedded = self.embedding(input_seq)\n",
        "        embedded = self.dropout(embedded)\n",
        "\n",
        "        # Step 2: Pack sequences for efficient LSTM processing (handles variable lengths)\n",
        "        packed = pack_padded_sequence(embedded, lengths.cpu(), batch_first=True, enforce_sorted=False)\n",
        "\n",
        "        # Step 3: LSTM forward pass\n",
        "        packed_output, (hidden, cell) = self.lstm(packed)\n",
        "\n",
        "        # Step 4: Unpack sequences\n",
        "        output, _ = pad_packed_sequence(packed_output, batch_first=True)\n",
        "\n",
        "        # Step 5: Combine bidirectional hidden states for decoder initialization\n",
        "        # Original: (num_layers * 2, batch, hidden_size)\n",
        "        # Target: (num_layers, batch, hidden_size * 2)\n",
        "        hidden = hidden.view(self.num_layers, 2, batch_size, self.hidden_size)\n",
        "        hidden = torch.cat([hidden[:, 0, :, :], hidden[:, 1, :, :]], dim=2)\n",
        "\n",
        "        cell = cell.view(self.num_layers, 2, batch_size, self.hidden_size)\n",
        "        cell = torch.cat([cell[:, 0, :, :], cell[:, 1, :, :]], dim=2)\n",
        "\n",
        "        return output, (hidden, cell)"
      ],
      "metadata": {
        "id": "px59VYCSReks"
      },
      "execution_count": null,
      "outputs": []
    },
    {
      "cell_type": "markdown",
      "source": [
        "## 7.3 LSTM Decoder Architecture\n"
      ],
      "metadata": {
        "id": "BLS0oqZMRg5_"
      }
    },
    {
      "cell_type": "markdown",
      "source": [
        "**Purpose:** LSTM decoder for generating Roman Urdu output sequences."
      ],
      "metadata": {
        "id": "gjKy0t6MELRW"
      }
    },
    {
      "cell_type": "code",
      "source": [
        "class LSTMDecoder(nn.Module):\n",
        "    \"\"\"LSTM Decoder (4 layers as required by assignment)\"\"\"\n",
        "\n",
        "    def __init__(self, vocab_size, embedding_dim, hidden_size, encoder_hidden_size, num_layers=4, dropout=0.3):\n",
        "        \"\"\"\n",
        "        Initialize the LSTM decoder\n",
        "\n",
        "        Args:\n",
        "            vocab_size: Size of output vocabulary\n",
        "            embedding_dim: Dimension of word embeddings\n",
        "            hidden_size: Hidden state dimension\n",
        "            encoder_hidden_size: Hidden size from encoder (for projection)\n",
        "            num_layers: Number of decoder LSTM layers (default: 4)\n",
        "            dropout: Dropout rate for regularization\n",
        "        \"\"\"\n",
        "        super(LSTMDecoder, self).__init__()\n",
        "\n",
        "        self.hidden_size = hidden_size\n",
        "        self.num_layers = num_layers\n",
        "        self.vocab_size = vocab_size\n",
        "\n",
        "        # Word embedding layer\n",
        "        self.embedding = nn.Embedding(vocab_size, embedding_dim, padding_idx=2)\n",
        "\n",
        "        # Project encoder states to decoder dimensions\n",
        "        # (encoder is bidirectional, so encoder_hidden_size = 2 * encoder_lstm_hidden)\n",
        "        self.hidden_projection = nn.Linear(encoder_hidden_size, hidden_size)\n",
        "        self.cell_projection = nn.Linear(encoder_hidden_size, hidden_size)\n",
        "\n",
        "        # LSTM layers (4 layers as specified)\n",
        "        self.lstm = nn.LSTM(\n",
        "            embedding_dim,\n",
        "            hidden_size,\n",
        "            num_layers=num_layers,\n",
        "            batch_first=True,\n",
        "            dropout=dropout if num_layers > 1 else 0\n",
        "        )\n",
        "\n",
        "        # Output projection to vocabulary\n",
        "        self.out_projection = nn.Linear(hidden_size, vocab_size)\n",
        "        self.dropout = nn.Dropout(dropout)\n",
        "\n",
        "    def forward(self, input_token, hidden, cell):\n",
        "        \"\"\"\n",
        "        Single forward step of the decoder\n",
        "\n",
        "        Args:\n",
        "            input_token: Current input token [batch_size, 1]\n",
        "            hidden: Hidden state from previous step [num_layers, batch_size, hidden_size]\n",
        "            cell: Cell state from previous step [num_layers, batch_size, hidden_size]\n",
        "\n",
        "        Returns:\n",
        "            output: Vocabulary distribution [batch_size, 1, vocab_size]\n",
        "            hidden: Updated hidden state\n",
        "            cell: Updated cell state\n",
        "        \"\"\"\n",
        "        # Step 1: Embed input token\n",
        "        embedded = self.embedding(input_token)\n",
        "        embedded = self.dropout(embedded)\n",
        "\n",
        "        # Step 2: LSTM forward pass\n",
        "        output, (hidden, cell) = self.lstm(embedded, (hidden, cell))\n",
        "\n",
        "        # Step 3: Project to vocabulary size\n",
        "        output = self.out_projection(output)\n",
        "\n",
        "        return output, hidden, cell\n",
        "\n",
        "    def init_hidden(self, encoder_hidden, encoder_cell):\n",
        "        \"\"\"Initialize decoder hidden states from encoder final states\"\"\"\n",
        "        batch_size = encoder_hidden.size(1)\n",
        "\n",
        "        # Handle different numbers of layers between encoder and decoder\n",
        "        if encoder_hidden.size(0) < self.num_layers:\n",
        "            # If encoder has fewer layers, repeat the last layer\n",
        "            encoder_hidden = encoder_hidden[-1:].repeat(self.num_layers, 1, 1)\n",
        "            encoder_cell = encoder_cell[-1:].repeat(self.num_layers, 1, 1)\n",
        "        elif encoder_hidden.size(0) > self.num_layers:\n",
        "            # If encoder has more layers, take the last few layers\n",
        "            encoder_hidden = encoder_hidden[-self.num_layers:]\n",
        "            encoder_cell = encoder_cell[-self.num_layers:]\n",
        "\n",
        "        # Project encoder dimensions to decoder dimensions\n",
        "        hidden = self.hidden_projection(encoder_hidden)\n",
        "        cell = self.cell_projection(encoder_cell)\n",
        "\n",
        "        return hidden, cell"
      ],
      "metadata": {
        "id": "2MknofVHRnZD"
      },
      "execution_count": null,
      "outputs": []
    },
    {
      "cell_type": "markdown",
      "source": [
        "## 7.4 Seq-to-Seq Model\n"
      ],
      "metadata": {
        "id": "1odKEhZbRpXQ"
      }
    },
    {
      "cell_type": "markdown",
      "source": [
        "**Purpose:** Combine encoder and decoder into complete translation model."
      ],
      "metadata": {
        "id": "sU0TqtFvEUnX"
      }
    },
    {
      "cell_type": "code",
      "source": [
        "class Seq2SeqModel(nn.Module):\n",
        "    \"\"\"Complete Sequence-to-Sequence Model for Neural Machine Translation\"\"\"\n",
        "\n",
        "    def __init__(self, urdu_vocab_size, roman_vocab_size, embedding_dim=256,\n",
        "                 encoder_hidden_size=512, decoder_hidden_size=512, dropout=0.3):\n",
        "        \"\"\"\n",
        "        Initialize the complete seq2seq model\n",
        "\n",
        "        Args:\n",
        "            urdu_vocab_size: Size of Urdu vocabulary (source)\n",
        "            roman_vocab_size: Size of Roman vocabulary (target)\n",
        "            embedding_dim: Dimension of word embeddings\n",
        "            encoder_hidden_size: Encoder hidden size (total, including bidirectional)\n",
        "            decoder_hidden_size: Decoder hidden size\n",
        "            dropout: Dropout rate for regularization\n",
        "        \"\"\"\n",
        "        super(Seq2SeqModel, self).__init__()\n",
        "\n",
        "        # BiLSTM Encoder (2 layers, bidirectional)\n",
        "        self.encoder = BiLSTMEncoder(\n",
        "            vocab_size=urdu_vocab_size,\n",
        "            embedding_dim=embedding_dim,\n",
        "            hidden_size=encoder_hidden_size // 2,  # Divide by 2 for bidirectional\n",
        "            num_layers=2,  # As specified in assignment\n",
        "            dropout=dropout\n",
        "        )\n",
        "\n",
        "        # LSTM Decoder (4 layers, unidirectional)\n",
        "        self.decoder = LSTMDecoder(\n",
        "            vocab_size=roman_vocab_size,\n",
        "            embedding_dim=embedding_dim,\n",
        "            hidden_size=decoder_hidden_size,\n",
        "            encoder_hidden_size=encoder_hidden_size,  # Full size after bidirectional concat\n",
        "            num_layers=4,  # As specified in assignment\n",
        "            dropout=dropout\n",
        "        )\n",
        "\n",
        "        self.roman_vocab_size = roman_vocab_size\n",
        "\n",
        "    def forward(self, urdu_seq, roman_seq, urdu_lengths, teacher_forcing_ratio=0.5):\n",
        "        \"\"\"\n",
        "        Training forward pass with teacher forcing\n",
        "\n",
        "        Args:\n",
        "            urdu_seq: Input Urdu sequences [batch_size, urdu_seq_len]\n",
        "            roman_seq: Target Roman sequences [batch_size, roman_seq_len]\n",
        "            urdu_lengths: Actual lengths of Urdu sequences\n",
        "            teacher_forcing_ratio: Probability of using ground truth vs model prediction\n",
        "\n",
        "        Returns:\n",
        "            decoder_outputs: Predictions for each timestep [batch_size, roman_seq_len, vocab_size]\n",
        "        \"\"\"\n",
        "        batch_size = urdu_seq.size(0)\n",
        "        max_target_len = roman_seq.size(1)\n",
        "\n",
        "        # Step 1: Encode input sequence\n",
        "        encoder_outputs, (encoder_hidden, encoder_cell) = self.encoder(urdu_seq, urdu_lengths)\n",
        "\n",
        "        # Step 2: Initialize decoder with encoder final states\n",
        "        decoder_hidden, decoder_cell = self.decoder.init_hidden(encoder_hidden, encoder_cell)\n",
        "\n",
        "        # Step 3: Prepare decoder outputs tensor\n",
        "        decoder_outputs = torch.zeros(batch_size, max_target_len, self.roman_vocab_size).to(urdu_seq.device)\n",
        "\n",
        "        # Step 4: Start decoding with SOS token\n",
        "        decoder_input = roman_seq[:, 0:1]  # SOS token\n",
        "\n",
        "        # Step 5: Decode step by step\n",
        "        for t in range(1, max_target_len):\n",
        "            # Decoder forward pass\n",
        "            decoder_output, decoder_hidden, decoder_cell = self.decoder(\n",
        "                decoder_input, decoder_hidden, decoder_cell\n",
        "            )\n",
        "\n",
        "            # Store output\n",
        "            decoder_outputs[:, t:t+1, :] = decoder_output\n",
        "\n",
        "            # Teacher forcing decision\n",
        "            use_teacher_forcing = random.random() < teacher_forcing_ratio\n",
        "            if use_teacher_forcing:\n",
        "                # Use ground truth token\n",
        "                decoder_input = roman_seq[:, t:t+1]\n",
        "            else:\n",
        "                # Use model prediction\n",
        "                decoder_input = decoder_output.argmax(dim=-1)\n",
        "\n",
        "        return decoder_outputs\n",
        "\n",
        "    def generate(self, urdu_seq, urdu_lengths, max_length=100, temperature=1.0):\n",
        "        \"\"\"\n",
        "        Generation mode for inference (no teacher forcing)\n",
        "\n",
        "        Args:\n",
        "            urdu_seq: Input Urdu sequence [batch_size, seq_len]\n",
        "            urdu_lengths: Actual lengths of input sequences\n",
        "            max_length: Maximum length of generated sequence\n",
        "            temperature: Temperature for sampling (1.0 = standard sampling)\n",
        "\n",
        "        Returns:\n",
        "            Generated Roman Urdu sequence [batch_size, generated_len]\n",
        "        \"\"\"\n",
        "        self.eval()\n",
        "        with torch.no_grad():\n",
        "            batch_size = urdu_seq.size(0)\n",
        "\n",
        "            # Step 1: Encode input\n",
        "            encoder_outputs, (encoder_hidden, encoder_cell) = self.encoder(urdu_seq, urdu_lengths)\n",
        "\n",
        "            # Step 2: Initialize decoder\n",
        "            decoder_hidden, decoder_cell = self.decoder.init_hidden(encoder_hidden, encoder_cell)\n",
        "\n",
        "            # Step 3: Start with SOS token\n",
        "            decoder_input = torch.zeros(batch_size, 1, dtype=torch.long).to(urdu_seq.device)\n",
        "\n",
        "            generated_sequences = []\n",
        "\n",
        "            # Step 4: Generate tokens one by one\n",
        "            for t in range(max_length):\n",
        "                decoder_output, decoder_hidden, decoder_cell = self.decoder(\n",
        "                    decoder_input, decoder_hidden, decoder_cell\n",
        "                )\n",
        "\n",
        "                # Apply temperature and sample next token\n",
        "                probs = F.softmax(decoder_output.squeeze(1) / temperature, dim=-1)\n",
        "                decoder_input = torch.multinomial(probs, 1)\n",
        "\n",
        "                generated_sequences.append(decoder_input)\n",
        "\n",
        "                # Stop if all sequences generated EOS token\n",
        "                if (decoder_input == 1).all():  # EOS token = 1\n",
        "                    break\n",
        "\n",
        "            if generated_sequences:\n",
        "                return torch.cat(generated_sequences, dim=1)\n",
        "            else:\n",
        "                return torch.zeros(batch_size, 1, dtype=torch.long).to(urdu_seq.device)"
      ],
      "metadata": {
        "id": "7p6vDtmSRwZU"
      },
      "execution_count": null,
      "outputs": []
    },
    {
      "cell_type": "markdown",
      "source": [
        "## 7.5 Training Class with Optimization"
      ],
      "metadata": {
        "id": "sTWl-YeyR3jH"
      }
    },
    {
      "cell_type": "markdown",
      "source": [
        "**Purpose:** Handle model training with proper optimization and validation."
      ],
      "metadata": {
        "id": "VAbbXZmqEclZ"
      }
    },
    {
      "cell_type": "code",
      "source": [
        "class Seq2SeqTrainer:\n",
        "    \"\"\"Comprehensive training class for the Seq2Seq model\"\"\"\n",
        "\n",
        "    def __init__(self, model, train_loader, val_loader, learning_rate=0.001):\n",
        "        \"\"\"\n",
        "        Initialize trainer with model and data loaders\n",
        "\n",
        "        Args:\n",
        "            model: The seq2seq model to train\n",
        "            train_loader: DataLoader for training data\n",
        "            val_loader: DataLoader for validation data\n",
        "            learning_rate: Learning rate for Adam optimizer\n",
        "        \"\"\"\n",
        "        self.model = model.to(device)\n",
        "        self.train_loader = train_loader\n",
        "        self.val_loader = val_loader\n",
        "\n",
        "        # Optimizer: Adam with standard parameters\n",
        "        self.optimizer = optim.Adam(model.parameters(), lr=learning_rate)\n",
        "\n",
        "        # Loss function: Cross-entropy with padding ignored\n",
        "        self.criterion = nn.CrossEntropyLoss(ignore_index=2)\n",
        "\n",
        "        # Track losses for plotting\n",
        "        self.train_losses = []\n",
        "        self.val_losses = []\n",
        "\n",
        "    def train_epoch(self, teacher_forcing_ratio=0.5):\n",
        "        \"\"\"Train for one epoch\"\"\"\n",
        "        self.model.train()\n",
        "        total_loss = 0\n",
        "\n",
        "        for batch in tqdm(self.train_loader, desc=\"Training\"):\n",
        "            # Move data to device\n",
        "            urdu_seq = batch['urdu'].to(device)\n",
        "            roman_seq = batch['roman'].to(device)\n",
        "            urdu_lengths = batch['urdu_lengths']\n",
        "\n",
        "            # Zero gradients\n",
        "            self.optimizer.zero_grad()\n",
        "\n",
        "            # Forward pass\n",
        "            outputs = self.model(urdu_seq, roman_seq, urdu_lengths, teacher_forcing_ratio)\n",
        "\n",
        "            # Prepare for loss calculation (skip SOS token)\n",
        "            outputs = outputs[:, 1:, :].contiguous()  # [batch_size, seq_len-1, vocab_size]\n",
        "            targets = roman_seq[:, 1:].contiguous()   # [batch_size, seq_len-1]\n",
        "\n",
        "            # Calculate loss\n",
        "            loss = self.criterion(outputs.view(-1, outputs.size(-1)), targets.view(-1))\n",
        "\n",
        "            # Backward pass\n",
        "            loss.backward()\n",
        "\n",
        "            # Gradient clipping to prevent exploding gradients\n",
        "            torch.nn.utils.clip_grad_norm_(self.model.parameters(), max_norm=5.0)\n",
        "\n",
        "            # Update parameters\n",
        "            self.optimizer.step()\n",
        "\n",
        "            total_loss += loss.item()\n",
        "\n",
        "        return total_loss / len(self.train_loader)\n",
        "\n",
        "    def validate(self):\n",
        "        \"\"\"Validate the model (no teacher forcing)\"\"\"\n",
        "        self.model.eval()\n",
        "        total_loss = 0\n",
        "\n",
        "        with torch.no_grad():\n",
        "            for batch in tqdm(self.val_loader, desc=\"Validation\"):\n",
        "                urdu_seq = batch['urdu'].to(device)\n",
        "                roman_seq = batch['roman'].to(device)\n",
        "                urdu_lengths = batch['urdu_lengths']\n",
        "\n",
        "                # Forward pass without teacher forcing\n",
        "                outputs = self.model(urdu_seq, roman_seq, urdu_lengths, teacher_forcing_ratio=0)\n",
        "\n",
        "                # Calculate loss\n",
        "                outputs = outputs[:, 1:, :].contiguous()\n",
        "                targets = roman_seq[:, 1:].contiguous()\n",
        "\n",
        "                loss = self.criterion(outputs.view(-1, outputs.size(-1)), targets.view(-1))\n",
        "                total_loss += loss.item()\n",
        "\n",
        "        return total_loss / len(self.val_loader)\n",
        "\n",
        "    def train(self, num_epochs, save_path=\"/content/drive/MyDrive/ANLP/A1/processed_data/best_model.pth\"):\n",
        "        \"\"\"\n",
        "        Complete training loop with validation and model saving\n",
        "\n",
        "        Args:\n",
        "            num_epochs: Number of training epochs\n",
        "            save_path: Path to save the best model\n",
        "\n",
        "        Returns:\n",
        "            train_losses, val_losses: Lists of losses for plotting\n",
        "        \"\"\"\n",
        "        best_val_loss = float('inf')\n",
        "\n",
        "        print(f\" Starting training for {num_epochs} epochs...\")\n",
        "\n",
        "        for epoch in range(num_epochs):\n",
        "            # Training phase\n",
        "            train_loss = self.train_epoch()\n",
        "\n",
        "            # Validation phase\n",
        "            val_loss = self.validate()\n",
        "\n",
        "            # Record losses\n",
        "            self.train_losses.append(train_loss)\n",
        "            self.val_losses.append(val_loss)\n",
        "\n",
        "            # Calculate perplexity (exp of cross-entropy loss)\n",
        "            train_ppl = np.exp(train_loss)\n",
        "            val_ppl = np.exp(val_loss)\n",
        "\n",
        "            # Print progress\n",
        "            print(f\"Epoch {epoch+1}/{num_epochs}:\")\n",
        "            print(f\"  Train Loss: {train_loss:.4f}, Train PPL: {train_ppl:.2f}\")\n",
        "            print(f\"  Val Loss: {val_loss:.4f}, Val PPL: {val_ppl:.2f}\")\n",
        "\n",
        "\n",
        "# Save best model\n",
        "            if val_loss < best_val_loss:\n",
        "              best_val_loss = val_loss\n",
        "              torch.save({\n",
        "                  'epoch': epoch,\n",
        "                  'model_state_dict': self.model.state_dict(),\n",
        "                  'optimizer_state_dict': self.optimizer.state_dict(),\n",
        "                  'train_loss': train_loss,\n",
        "                  'val_loss': val_loss,\n",
        "              }, save_path)\n",
        "              print(f\"   New best model saved at {save_path}! Val Loss: {val_loss:.4f}\")\n",
        "\n",
        "        print(\"-\" * 50)\n",
        "\n",
        "        print(f\" Training completed! Best validation loss: {best_val_loss:.4f}\")\n",
        "        return self.train_losses, self.val_losses"
      ],
      "metadata": {
        "id": "4HSuBzG3R2Ig"
      },
      "execution_count": null,
      "outputs": []
    },
    {
      "cell_type": "markdown",
      "source": [
        "## 7.6 Data Loading\n"
      ],
      "metadata": {
        "id": "d0sb_R-qSEVK"
      }
    },
    {
      "cell_type": "markdown",
      "source": [
        "**Purpose:** Load preprocessed data and create PyTorch data loaders."
      ],
      "metadata": {
        "id": "phGz0hEyElZT"
      }
    },
    {
      "cell_type": "code",
      "source": [
        "def load_data_and_tokenizers(processed_data_dir=\"/content/drive/MyDrive/ANLP/A1/processed_data\"):\n",
        "    \"\"\"Load processed data and tokenizers from preprocessing pipeline\"\"\"\n",
        "    print(\" Loading data and tokenizers...\")\n",
        "\n",
        "    # Load tokenized data (created by preprocessing pipeline)\n",
        "    with open(f'{processed_data_dir}/train_tokenized.json', 'r', encoding='utf-8') as f:\n",
        "        train_pairs = json.load(f)\n",
        "\n",
        "    with open(f'{processed_data_dir}/val_tokenized.json', 'r', encoding='utf-8') as f:\n",
        "        val_pairs = json.load(f)\n",
        "\n",
        "    # Load tokenizer vocabularies\n",
        "    with open(f'{processed_data_dir}/urdu_tokenizer.pkl', 'rb') as f:\n",
        "        urdu_tokenizer = pickle.load(f)\n",
        "\n",
        "    with open(f'{processed_data_dir}/roman_tokenizer.pkl', 'rb') as f:\n",
        "        roman_tokenizer = pickle.load(f)\n",
        "\n",
        "    print(f\" Loaded {len(train_pairs)} train pairs, {len(val_pairs)} val pairs\")\n",
        "    print(f\" Urdu vocab: {len(urdu_tokenizer['vocab'])}, Roman vocab: {len(roman_tokenizer['vocab'])}\")\n",
        "\n",
        "    return train_pairs, val_pairs, urdu_tokenizer['vocab'], roman_tokenizer['vocab']\n",
        "\n",
        "def create_data_loaders(train_pairs, val_pairs, urdu_vocab, roman_vocab, batch_size=32):\n",
        "    \"\"\"Create PyTorch DataLoaders for efficient batching\"\"\"\n",
        "    print(\" Creating data loaders...\")\n",
        "\n",
        "    # Create dataset objects\n",
        "    train_dataset = UrduRomanDataset(train_pairs, urdu_vocab, roman_vocab)\n",
        "    val_dataset = UrduRomanDataset(val_pairs, urdu_vocab, roman_vocab)\n",
        "\n",
        "    # Create data loaders with proper batching\n",
        "    train_loader = DataLoader(\n",
        "        train_dataset,\n",
        "        batch_size=batch_size,\n",
        "        shuffle=True,  # Shuffle training data for better learning\n",
        "        collate_fn=collate_fn  # Custom function for variable-length sequences\n",
        "    )\n",
        "\n",
        "    val_loader = DataLoader(\n",
        "        val_dataset,\n",
        "        batch_size=batch_size,\n",
        "        shuffle=False,  # No need to shuffle validation data\n",
        "        collate_fn=collate_fn\n",
        "    )\n",
        "\n",
        "    print(f\" Train batches: {len(train_loader)}, Val batches: {len(val_loader)}\")\n",
        "\n",
        "    return train_loader, val_loader, train_dataset, val_dataset"
      ],
      "metadata": {
        "id": "a01zgXt3c0aq"
      },
      "execution_count": null,
      "outputs": []
    },
    {
      "cell_type": "markdown",
      "source": [
        "## 7.7 Main Training Execution\n"
      ],
      "metadata": {
        "id": "8RVdz1jNSLZo"
      }
    },
    {
      "cell_type": "markdown",
      "source": [
        "**Purpose:** Main function to orchestrate the complete training process."
      ],
      "metadata": {
        "id": "K23QiafhEv8J"
      }
    },
    {
      "cell_type": "code",
      "source": [
        "def main():\n",
        "    \"\"\"Main training function - runs the complete training pipeline\"\"\"\n",
        "    print(\" STARTING BILSTM ENCODER-DECODER TRAINING\")\n",
        "    print(\"-\" * 60)\n",
        "\n",
        "    # Model configuration (following assignment specifications)\n",
        "    config = {\n",
        "        'embedding_dim': 256,        # Word embedding dimension\n",
        "        'encoder_hidden_size': 512,  # Encoder hidden size (total, bidirectional)\n",
        "        'decoder_hidden_size': 512,  # Decoder hidden size\n",
        "        'dropout': 0.3,              # Dropout rate for regularization\n",
        "        'batch_size': 32,            # Training batch size\n",
        "        'learning_rate': 0.001,      # Adam learning rate\n",
        "        'num_epochs': 10             # Number of training epochs\n",
        "    }\n",
        "\n",
        "    print(\" Configuration:\")\n",
        "    for key, value in config.items():\n",
        "        print(f\"  {key}: {value}\")\n",
        "\n",
        "    # Step 1: Load preprocessed data\n",
        "    train_pairs, val_pairs, urdu_vocab, roman_vocab = load_data_and_tokenizers()\n",
        "\n",
        "    # Step 2: Create data loaders\n",
        "    train_loader, val_loader, train_dataset, val_dataset = create_data_loaders(\n",
        "        train_pairs, val_pairs, urdu_vocab, roman_vocab, config['batch_size']\n",
        "    )\n",
        "\n",
        "    # Step 3: Initialize model\n",
        "    model = Seq2SeqModel(\n",
        "        urdu_vocab_size=len(urdu_vocab),\n",
        "        roman_vocab_size=len(roman_vocab),\n",
        "        embedding_dim=config['embedding_dim'],\n",
        "        encoder_hidden_size=config['encoder_hidden_size'],\n",
        "        decoder_hidden_size=config['decoder_hidden_size'],\n",
        "        dropout=config['dropout']\n",
        "    )\n",
        "\n",
        "    print(f\" Model created with {sum(p.numel() for p in model.parameters()):,} parameters\")\n",
        "\n",
        "    # Step 4: Initialize trainer\n",
        "    trainer = Seq2SeqTrainer(\n",
        "        model=model,\n",
        "        train_loader=train_loader,\n",
        "        val_loader=val_loader,\n",
        "        learning_rate=config['learning_rate']\n",
        "    )\n",
        "\n",
        "    # Step 5: Train model\n",
        "    train_losses, val_losses = trainer.train(\n",
        "        num_epochs=config['num_epochs'],\n",
        "        save_path=\"/content/drive/MyDrive/ANLP/A1/processed_data/best_model.pth\"\n",
        "    )\n",
        "\n",
        "    print(\" TRAINING COMPLETED SUCCESSFULLY!\")\n",
        "\n",
        "    # Step 6: Plot training curves\n",
        "    plt.figure(figsize=(12, 5))\n",
        "\n",
        "    plt.subplot(1, 2, 1)\n",
        "    plt.plot(train_losses, label='Train Loss', color='blue')\n",
        "    plt.plot(val_losses, label='Validation Loss', color='red')\n",
        "    plt.xlabel('Epoch')\n",
        "    plt.ylabel('Loss')\n",
        "    plt.title('Training and Validation Loss')\n",
        "    plt.legend()\n",
        "    plt.grid(True)\n",
        "\n",
        "    plt.subplot(1, 2, 2)\n",
        "    plt.plot([np.exp(loss) for loss in train_losses], label='Train Perplexity', color='blue')\n",
        "    plt.plot([np.exp(loss) for loss in val_losses], label='Val Perplexity', color='red')\n",
        "    plt.xlabel('Epoch')\n",
        "    plt.ylabel('Perplexity')\n",
        "    plt.title('Training and Validation Perplexity')\n",
        "    plt.legend()\n",
        "    plt.grid(True)\n",
        "\n",
        "    plt.tight_layout()\n",
        "    plt.savefig('/content/drive/MyDrive/ANLP/A1/processed_data/training_curves.png', dpi=300, bbox_inches='tight')\n",
        "    plt.show()\n",
        "\n",
        "    return model, trainer, train_dataset, val_dataset\n",
        "\n",
        "# Execute main function\n",
        "\n",
        "if __name__ == \"__main__\":\n",
        "    model, trainer, train_dataset, val_dataset = main()"
      ],
      "metadata": {
        "colab": {
          "base_uri": "https://localhost:8080/",
          "height": 1000
        },
        "id": "BUlrKkkOSRNt",
        "outputId": "0a4c48ab-96b6-4413-c502-d3c12375036a"
      },
      "execution_count": null,
      "outputs": [
        {
          "output_type": "stream",
          "name": "stdout",
          "text": [
            " STARTING BILSTM ENCODER-DECODER TRAINING\n",
            "------------------------------------------------------------\n",
            " Configuration:\n",
            "  embedding_dim: 256\n",
            "  encoder_hidden_size: 512\n",
            "  decoder_hidden_size: 512\n",
            "  dropout: 0.3\n",
            "  batch_size: 32\n",
            "  learning_rate: 0.001\n",
            "  num_epochs: 10\n",
            " Loading data and tokenizers...\n",
            " Loaded 243 train pairs, 121 val pairs\n",
            " Urdu vocab: 4051, Roman vocab: 4037\n",
            " Creating data loaders...\n",
            " Train batches: 8, Val batches: 4\n",
            " Model created with 15,181,257 parameters\n",
            " Starting training for 10 epochs...\n"
          ]
        },
        {
          "output_type": "stream",
          "name": "stderr",
          "text": [
            "Training: 100%|██████████| 8/8 [02:20<00:00, 17.53s/it]\n",
            "Validation: 100%|██████████| 4/4 [00:12<00:00,  3.16s/it]\n"
          ]
        },
        {
          "output_type": "stream",
          "name": "stdout",
          "text": [
            "Epoch 1/10:\n",
            "  Train Loss: 7.6826, Train PPL: 2170.20\n",
            "  Val Loss: 6.8565, Val PPL: 950.00\n",
            "   New best model saved at /content/drive/MyDrive/ANLP/A1/processed_data/best_model.pth! Val Loss: 6.8565\n"
          ]
        },
        {
          "output_type": "stream",
          "name": "stderr",
          "text": [
            "Training: 100%|██████████| 8/8 [02:21<00:00, 17.67s/it]\n",
            "Validation: 100%|██████████| 4/4 [00:12<00:00,  3.19s/it]\n"
          ]
        },
        {
          "output_type": "stream",
          "name": "stdout",
          "text": [
            "Epoch 2/10:\n",
            "  Train Loss: 6.8709, Train PPL: 963.82\n",
            "  Val Loss: 6.8670, Val PPL: 960.06\n"
          ]
        },
        {
          "output_type": "stream",
          "name": "stderr",
          "text": [
            "Training: 100%|██████████| 8/8 [02:07<00:00, 15.97s/it]\n",
            "Validation: 100%|██████████| 4/4 [00:12<00:00,  3.24s/it]\n"
          ]
        },
        {
          "output_type": "stream",
          "name": "stdout",
          "text": [
            "Epoch 3/10:\n",
            "  Train Loss: 6.7631, Train PPL: 865.33\n",
            "  Val Loss: 6.8555, Val PPL: 949.04\n",
            "   New best model saved at /content/drive/MyDrive/ANLP/A1/processed_data/best_model.pth! Val Loss: 6.8555\n"
          ]
        },
        {
          "output_type": "stream",
          "name": "stderr",
          "text": [
            "Training: 100%|██████████| 8/8 [02:20<00:00, 17.59s/it]\n",
            "Validation: 100%|██████████| 4/4 [00:12<00:00,  3.23s/it]\n"
          ]
        },
        {
          "output_type": "stream",
          "name": "stdout",
          "text": [
            "Epoch 4/10:\n",
            "  Train Loss: 6.7260, Train PPL: 833.78\n",
            "  Val Loss: 6.8668, Val PPL: 959.89\n"
          ]
        },
        {
          "output_type": "stream",
          "name": "stderr",
          "text": [
            "Training: 100%|██████████| 8/8 [02:09<00:00, 16.16s/it]\n",
            "Validation: 100%|██████████| 4/4 [00:12<00:00,  3.15s/it]\n"
          ]
        },
        {
          "output_type": "stream",
          "name": "stdout",
          "text": [
            "Epoch 5/10:\n",
            "  Train Loss: 6.7018, Train PPL: 813.90\n",
            "  Val Loss: 6.8562, Val PPL: 949.77\n"
          ]
        },
        {
          "output_type": "stream",
          "name": "stderr",
          "text": [
            "Training: 100%|██████████| 8/8 [02:18<00:00, 17.34s/it]\n",
            "Validation: 100%|██████████| 4/4 [00:12<00:00,  3.21s/it]\n"
          ]
        },
        {
          "output_type": "stream",
          "name": "stdout",
          "text": [
            "Epoch 6/10:\n",
            "  Train Loss: 6.6863, Train PPL: 801.35\n",
            "  Val Loss: 6.8584, Val PPL: 951.85\n"
          ]
        },
        {
          "output_type": "stream",
          "name": "stderr",
          "text": [
            "Training: 100%|██████████| 8/8 [02:11<00:00, 16.42s/it]\n",
            "Validation: 100%|██████████| 4/4 [00:12<00:00,  3.22s/it]\n"
          ]
        },
        {
          "output_type": "stream",
          "name": "stdout",
          "text": [
            "Epoch 7/10:\n",
            "  Train Loss: 6.6685, Train PPL: 787.18\n",
            "  Val Loss: 6.8591, Val PPL: 952.49\n"
          ]
        },
        {
          "output_type": "stream",
          "name": "stderr",
          "text": [
            "Training: 100%|██████████| 8/8 [02:10<00:00, 16.34s/it]\n",
            "Validation: 100%|██████████| 4/4 [00:12<00:00,  3.21s/it]\n"
          ]
        },
        {
          "output_type": "stream",
          "name": "stdout",
          "text": [
            "Epoch 8/10:\n",
            "  Train Loss: 6.6450, Train PPL: 768.94\n",
            "  Val Loss: 6.8640, Val PPL: 957.17\n"
          ]
        },
        {
          "output_type": "stream",
          "name": "stderr",
          "text": [
            "Training: 100%|██████████| 8/8 [02:13<00:00, 16.67s/it]\n",
            "Validation: 100%|██████████| 4/4 [00:12<00:00,  3.22s/it]\n"
          ]
        },
        {
          "output_type": "stream",
          "name": "stdout",
          "text": [
            "Epoch 9/10:\n",
            "  Train Loss: 6.6317, Train PPL: 758.76\n",
            "  Val Loss: 6.8690, Val PPL: 961.97\n"
          ]
        },
        {
          "output_type": "stream",
          "name": "stderr",
          "text": [
            "Training: 100%|██████████| 8/8 [02:10<00:00, 16.35s/it]\n",
            "Validation: 100%|██████████| 4/4 [00:15<00:00,  3.89s/it]\n"
          ]
        },
        {
          "output_type": "stream",
          "name": "stdout",
          "text": [
            "Epoch 10/10:\n",
            "  Train Loss: 6.6207, Train PPL: 750.46\n",
            "  Val Loss: 6.8783, Val PPL: 970.94\n",
            "--------------------------------------------------\n",
            " Training completed! Best validation loss: 6.8555\n",
            " TRAINING COMPLETED SUCCESSFULLY!\n"
          ]
        },
        {
          "output_type": "display_data",
          "data": {
            "text/plain": [
              "<Figure size 1200x500 with 2 Axes>"
            ],
            "image/png": "[encoded data removed]"
          },
          "metadata": {}
        }
      ]
    },
    {
      "cell_type": "markdown",
      "source": [
        "# Section 8: Complete Framework"
      ],
      "metadata": {
        "id": "2UNHCegjm6d0"
      }
    },
    {
      "cell_type": "markdown",
      "source": [
        "**Purpose:** Imports the core libraries required for machine learning, data processing, visualization, and evaluation, forming the foundation for building and testing an NLP model.\n"
      ],
      "metadata": {
        "id": "Y4YX42R1HwH4"
      }
    },
    {
      "cell_type": "code",
      "source": [
        "import torch\n",
        "import torch.nn as nn\n",
        "import torch.optim as optim\n",
        "import torch.nn.functional as F\n",
        "from torch.utils.data import Dataset, DataLoader\n",
        "import json\n",
        "import pickle\n",
        "import numpy as np\n",
        "from typing import List, Tuple, Dict, Optional\n",
        "import matplotlib.pyplot as plt\n",
        "import pandas as pd\n",
        "from collections import defaultdict\n",
        "import re\n",
        "from nltk.translate.bleu_score import sentence_bleu, SmoothingFunction\n",
        "from tqdm import tqdm\n",
        "import os\n"
      ],
      "metadata": {
        "id": "xvf0nqCEsmDF"
      },
      "execution_count": null,
      "outputs": []
    },
    {
      "cell_type": "markdown",
      "source": [
        "## 8.1 Data Class"
      ],
      "metadata": {
        "id": "-yqGHaU4sr0Z"
      }
    },
    {
      "cell_type": "markdown",
      "source": [
        "**Purpose:** It prepares tokenized sequences with special tokens, converts them to indices, and pads them so they can be efficiently used for training NLP models."
      ],
      "metadata": {
        "id": "wGRCm7ovIjLy"
      }
    },
    {
      "cell_type": "code",
      "source": [
        "class UrduRomanDataset(Dataset):\n",
        "    \"\"\"Dataset class for Urdu to Roman Urdu pairs (Compatible with existing preprocessing)\"\"\"\n",
        "\n",
        "    def __init__(self, tokenized_pairs, urdu_vocab, roman_vocab, max_length=100):\n",
        "        self.pairs = tokenized_pairs\n",
        "        self.urdu_vocab = urdu_vocab\n",
        "        self.roman_vocab = roman_vocab\n",
        "        self.max_length = max_length\n",
        "\n",
        "        # Create reverse vocabularies\n",
        "        self.urdu_idx2token = {idx: token for token, idx in urdu_vocab.items()}\n",
        "        self.roman_idx2token = {idx: token for token, idx in roman_vocab.items()}\n",
        "\n",
        "        # Special tokens (matching your existing setup)\n",
        "        self.SOS_token = 0  # Start of sequence\n",
        "        self.EOS_token = 1  # End of sequence\n",
        "        self.PAD_token = 2  # Padding\n",
        "        self.UNK_token = 3  # Unknown\n",
        "\n",
        "        # Add special tokens to vocabularies if not present\n",
        "        self._add_special_tokens()\n",
        "\n",
        "    def _add_special_tokens(self):\n",
        "        \"\"\"Add special tokens to vocabularies if not present\"\"\"\n",
        "        special_tokens = ['<SOS>', '<EOS>', '<PAD>', '<UNK>']\n",
        "\n",
        "        for i, token in enumerate(special_tokens):\n",
        "            if token not in self.urdu_vocab:\n",
        "                self.urdu_vocab[token] = i\n",
        "                self.urdu_idx2token[i] = token\n",
        "            if token not in self.roman_vocab:\n",
        "                self.roman_vocab[token] = i\n",
        "                self.roman_idx2token[i] = token\n",
        "\n",
        "    def tokens_to_indices(self, tokens, vocab, add_special=True):\n",
        "        \"\"\"Convert tokens to indices (matching your existing logic)\"\"\"\n",
        "        indices = []\n",
        "        if add_special:\n",
        "            indices.append(self.SOS_token)\n",
        "\n",
        "        for token in tokens:\n",
        "            if token in vocab:\n",
        "                indices.append(vocab[token])\n",
        "            else:\n",
        "                indices.append(self.UNK_token)\n",
        "\n",
        "        if add_special:\n",
        "            indices.append(self.EOS_token)\n",
        "\n",
        "        return indices\n",
        "\n",
        "    def __len__(self):\n",
        "        return len(self.pairs)\n",
        "\n",
        "    def __getitem__(self, idx):\n",
        "        urdu_tokens, roman_tokens = self.pairs[idx]\n",
        "\n",
        "        # Convert to indices using your existing logic\n",
        "        urdu_indices = self.tokens_to_indices(urdu_tokens, self.urdu_vocab)\n",
        "        roman_indices = self.tokens_to_indices(roman_tokens, self.roman_vocab)\n",
        "\n",
        "        # Limit length (matching your existing logic)\n",
        "        if len(urdu_indices) > self.max_length:\n",
        "            urdu_indices = urdu_indices[:self.max_length-1] + [self.EOS_token]\n",
        "        if len(roman_indices) > self.max_length:\n",
        "            roman_indices = roman_indices[:self.max_length-1] + [self.EOS_token]\n",
        "\n",
        "        return {\n",
        "            'urdu': torch.tensor(urdu_indices, dtype=torch.long),\n",
        "            'roman': torch.tensor(roman_indices, dtype=torch.long),\n",
        "            'urdu_length': len(urdu_indices),\n",
        "            'roman_length': len(roman_indices)\n",
        "        }\n",
        "\n",
        "def collate_fn(batch):\n",
        "    \"\"\"Custom collate function for padding sequences (Compatible with existing setup)\"\"\"\n",
        "    urdu_seqs = [item['urdu'] for item in batch]\n",
        "    roman_seqs = [item['roman'] for item in batch]\n",
        "    urdu_lengths = [item['urdu_length'] for item in batch]\n",
        "    roman_lengths = [item['roman_length'] for item in batch]\n",
        "\n",
        "    # Pad sequences using PyTorch's pad_sequence (matching your existing approach)\n",
        "    urdu_padded = torch.nn.utils.rnn.pad_sequence(urdu_seqs, batch_first=True, padding_value=2)  # PAD_token = 2\n",
        "    roman_padded = torch.nn.utils.rnn.pad_sequence(roman_seqs, batch_first=True, padding_value=2)\n",
        "\n",
        "    return {\n",
        "        'urdu': urdu_padded,\n",
        "        'roman': roman_padded,\n",
        "        'urdu_lengths': torch.tensor(urdu_lengths),\n",
        "        'roman_lengths': torch.tensor(roman_lengths)\n",
        "    }"
      ],
      "metadata": {
        "id": "abkeycO_suxu"
      },
      "execution_count": null,
      "outputs": []
    },
    {
      "cell_type": "markdown",
      "source": [
        "## 8.2 Model Architecture"
      ],
      "metadata": {
        "id": "ehPGPUD1syM2"
      }
    },
    {
      "cell_type": "markdown",
      "source": [
        "**Purpose:** Implements a sequence-to-sequence (Seq2Seq) model for Urdu to Roman Urdu translation. It defines a bidirectional LSTM encoder, a multi-layer LSTM decoder, and combines them into a complete model that can train and generate translations.\n"
      ],
      "metadata": {
        "id": "Up5YdFI8J4vK"
      }
    },
    {
      "cell_type": "code",
      "source": [
        "class BiLSTMEncoder(nn.Module):\n",
        "    \"\"\"Bidirectional LSTM Encoder (2 layers) - Compatible with existing architecture\"\"\"\n",
        "\n",
        "    def __init__(self, vocab_size, embedding_dim, hidden_size, num_layers=2, dropout=0.3):\n",
        "        super(BiLSTMEncoder, self).__init__()\n",
        "\n",
        "        self.hidden_size = hidden_size\n",
        "        self.num_layers = num_layers\n",
        "\n",
        "        self.embedding = nn.Embedding(vocab_size, embedding_dim, padding_idx=2)\n",
        "        self.lstm = nn.LSTM(\n",
        "            embedding_dim,\n",
        "            hidden_size,\n",
        "            num_layers=num_layers,\n",
        "            batch_first=True,\n",
        "            dropout=dropout if num_layers > 1 else 0,\n",
        "            bidirectional=True\n",
        "        )\n",
        "        self.dropout = nn.Dropout(dropout)\n",
        "\n",
        "    def forward(self, input_seq, lengths):\n",
        "        batch_size = input_seq.size(0)\n",
        "\n",
        "        # Embedding\n",
        "        embedded = self.embedding(input_seq)\n",
        "        embedded = self.dropout(embedded)\n",
        "\n",
        "        # Pack padded sequence\n",
        "        packed = torch.nn.utils.rnn.pack_padded_sequence(embedded, lengths.cpu(), batch_first=True, enforce_sorted=False)\n",
        "\n",
        "        # LSTM forward pass\n",
        "        packed_output, (hidden, cell) = self.lstm(packed)\n",
        "\n",
        "        # Unpack sequence\n",
        "        output, _ = torch.nn.utils.rnn.pad_packed_sequence(packed_output, batch_first=True)\n",
        "\n",
        "        # Combine bidirectional hidden states (matching your existing logic)\n",
        "        # hidden: (num_layers * 2, batch, hidden_size)\n",
        "        # We need to reshape to (num_layers, batch, hidden_size * 2) for decoder\n",
        "        hidden = hidden.view(self.num_layers, 2, batch_size, self.hidden_size)\n",
        "        hidden = torch.cat([hidden[:, 0, :, :], hidden[:, 1, :, :]], dim=2)\n",
        "\n",
        "        cell = cell.view(self.num_layers, 2, batch_size, self.hidden_size)\n",
        "        cell = torch.cat([cell[:, 0, :, :], cell[:, 1, :, :]], dim=2)\n",
        "\n",
        "        return output, (hidden, cell)\n",
        "\n",
        "class LSTMDecoder(nn.Module):\n",
        "    \"\"\"LSTM Decoder (4 layers) - Compatible with existing architecture\"\"\"\n",
        "\n",
        "    def __init__(self, vocab_size, embedding_dim, hidden_size, encoder_hidden_size, num_layers=4, dropout=0.3):\n",
        "        super(LSTMDecoder, self).__init__()\n",
        "\n",
        "        self.hidden_size = hidden_size\n",
        "        self.num_layers = num_layers\n",
        "        self.vocab_size = vocab_size\n",
        "\n",
        "        self.embedding = nn.Embedding(vocab_size, embedding_dim, padding_idx=2)\n",
        "\n",
        "        # Project encoder hidden state to decoder hidden state (matching your existing logic)\n",
        "        self.hidden_projection = nn.Linear(encoder_hidden_size, hidden_size)\n",
        "        self.cell_projection = nn.Linear(encoder_hidden_size, hidden_size)\n",
        "\n",
        "        # LSTM layers\n",
        "        self.lstm = nn.LSTM(\n",
        "            embedding_dim,\n",
        "            hidden_size,\n",
        "            num_layers=num_layers,\n",
        "            batch_first=True,\n",
        "            dropout=dropout if num_layers > 1 else 0\n",
        "        )\n",
        "\n",
        "        # Output projection\n",
        "        self.out_projection = nn.Linear(hidden_size, vocab_size)\n",
        "        self.dropout = nn.Dropout(dropout)\n",
        "\n",
        "    def forward(self, input_token, hidden, cell):\n",
        "        # input_token: (batch_size, 1)\n",
        "        # hidden: (num_layers, batch_size, hidden_size)\n",
        "        # cell: (num_layers, batch_size, hidden_size)\n",
        "\n",
        "        # Embedding\n",
        "        embedded = self.embedding(input_token)\n",
        "        embedded = self.dropout(embedded)\n",
        "\n",
        "        # LSTM forward pass\n",
        "        output, (hidden, cell) = self.lstm(embedded, (hidden, cell))\n",
        "\n",
        "        # Project to vocabulary\n",
        "        output = self.out_projection(output)\n",
        "\n",
        "        return output, hidden, cell\n",
        "\n",
        "    def init_hidden(self, encoder_hidden, encoder_cell):\n",
        "        \"\"\"Initialize decoder hidden state from encoder (matching your existing logic)\"\"\"\n",
        "        batch_size = encoder_hidden.size(1)\n",
        "\n",
        "        # Project encoder states to decoder dimension\n",
        "        if encoder_hidden.size(0) < self.num_layers:\n",
        "            # If encoder has fewer layers, repeat the last layer\n",
        "            encoder_hidden = encoder_hidden[-1:].repeat(self.num_layers, 1, 1)\n",
        "            encoder_cell = encoder_cell[-1:].repeat(self.num_layers, 1, 1)\n",
        "        elif encoder_hidden.size(0) > self.num_layers:\n",
        "            # If encoder has more layers, take the last few layers\n",
        "            encoder_hidden = encoder_hidden[-self.num_layers:]\n",
        "            encoder_cell = encoder_cell[-self.num_layers:]\n",
        "\n",
        "        # Project to decoder hidden size\n",
        "        hidden = self.hidden_projection(encoder_hidden)\n",
        "        cell = self.cell_projection(encoder_cell)\n",
        "\n",
        "        return hidden, cell\n",
        "\n",
        "class Seq2SeqModel(nn.Module):\n",
        "    \"\"\"Complete Sequence-to-Sequence Model - Compatible with existing architecture\"\"\"\n",
        "\n",
        "    def __init__(self, urdu_vocab_size, roman_vocab_size, embedding_dim=256,\n",
        "                 encoder_hidden_size=512, decoder_hidden_size=512,\n",
        "                 encoder_layers=2, decoder_layers=4, dropout=0.3):\n",
        "        super(Seq2SeqModel, self).__init__()\n",
        "\n",
        "        self.encoder = BiLSTMEncoder(\n",
        "            vocab_size=urdu_vocab_size,\n",
        "            embedding_dim=embedding_dim,\n",
        "            hidden_size=encoder_hidden_size // 2,  # Divide by 2 for bidirectional (matching your logic)\n",
        "            num_layers=encoder_layers,\n",
        "            dropout=dropout\n",
        "        )\n",
        "\n",
        "        self.decoder = LSTMDecoder(\n",
        "            vocab_size=roman_vocab_size,\n",
        "            embedding_dim=embedding_dim,\n",
        "            hidden_size=decoder_hidden_size,\n",
        "            encoder_hidden_size=encoder_hidden_size,  # Full size after concatenation\n",
        "            num_layers=decoder_layers,\n",
        "            dropout=dropout\n",
        "        )\n",
        "\n",
        "        self.roman_vocab_size = roman_vocab_size\n",
        "\n",
        "    def forward(self, urdu_seq, roman_seq, urdu_lengths, teacher_forcing_ratio=0.5):\n",
        "        batch_size = urdu_seq.size(0)\n",
        "        max_target_len = roman_seq.size(1)\n",
        "\n",
        "        # Encode (matching your existing approach)\n",
        "        encoder_outputs, (encoder_hidden, encoder_cell) = self.encoder(urdu_seq, urdu_lengths)\n",
        "\n",
        "        # Initialize decoder (matching your existing approach)\n",
        "        decoder_hidden, decoder_cell = self.decoder.init_hidden(encoder_hidden, encoder_cell)\n",
        "\n",
        "        # Prepare decoder input and outputs\n",
        "        decoder_input = roman_seq[:, 0:1]  # Start with SOS token\n",
        "        decoder_outputs = torch.zeros(batch_size, max_target_len, self.roman_vocab_size).to(urdu_seq.device)\n",
        "\n",
        "        for t in range(1, max_target_len):\n",
        "            # Decoder forward pass\n",
        "            decoder_output, decoder_hidden, decoder_cell = self.decoder(\n",
        "                decoder_input, decoder_hidden, decoder_cell\n",
        "            )\n",
        "\n",
        "            decoder_outputs[:, t:t+1, :] = decoder_output\n",
        "\n",
        "            # Teacher forcing (matching your existing logic)\n",
        "            use_teacher_forcing = torch.rand(1).item() < teacher_forcing_ratio\n",
        "            if use_teacher_forcing:\n",
        "                decoder_input = roman_seq[:, t:t+1]  # Use ground truth\n",
        "            else:\n",
        "                decoder_input = decoder_output.argmax(dim=-1)  # Use prediction\n",
        "\n",
        "        return decoder_outputs\n",
        "\n",
        "    def generate(self, urdu_seq, urdu_lengths, max_length=100, temperature=1.0, sos_token=0, eos_token=1):\n",
        "        \"\"\"Generate Roman Urdu translation (matching your existing approach)\"\"\"\n",
        "        self.eval()\n",
        "        with torch.no_grad():\n",
        "            batch_size = urdu_seq.size(0)\n",
        "\n",
        "            # Encode\n",
        "            encoder_outputs, (encoder_hidden, encoder_cell) = self.encoder(urdu_seq, urdu_lengths)\n",
        "\n",
        "            # Initialize decoder\n",
        "            decoder_hidden, decoder_cell = self.decoder.init_hidden(encoder_hidden, encoder_cell)\n",
        "\n",
        "            # Start with SOS token\n",
        "            decoder_input = torch.zeros(batch_size, 1, dtype=torch.long).to(urdu_seq.device)\n",
        "\n",
        "            generated_sequences = []\n",
        "\n",
        "            for t in range(max_length):\n",
        "                decoder_output, decoder_hidden, decoder_cell = self.decoder(\n",
        "                    decoder_input, decoder_hidden, decoder_cell\n",
        "                )\n",
        "\n",
        "                # Apply temperature (matching your existing approach)\n",
        "                probs = F.softmax(decoder_output.squeeze(1) / temperature, dim=-1)\n",
        "                decoder_input = torch.multinomial(probs, 1)\n",
        "\n",
        "                generated_sequences.append(decoder_input)\n",
        "\n",
        "                # Stop if EOS token is generated\n",
        "                if (decoder_input == eos_token).all():  # EOS token = 1\n",
        "                    break\n",
        "\n",
        "            if generated_sequences:\n",
        "                return torch.cat(generated_sequences, dim=1)\n",
        "            else:\n",
        "                return torch.zeros(batch_size, 1, dtype=torch.long).to(urdu_seq.device)"
      ],
      "metadata": {
        "id": "2XhcVnq6tJXz"
      },
      "execution_count": null,
      "outputs": []
    },
    {
      "cell_type": "markdown",
      "source": [
        "## 8.3 Trainer Class"
      ],
      "metadata": {
        "id": "QWYF8ZkutNcB"
      }
    },
    {
      "cell_type": "markdown",
      "source": [
        "**Purpose:** Defines a training framework for the Seq2Seq model. It handles model training, validation, and checkpoint saving, ensuring the model learns effectively while tracking performance across epochs.\n"
      ],
      "metadata": {
        "id": "w5SrRaTBKiHs"
      }
    },
    {
      "cell_type": "code",
      "source": [
        "class Seq2SeqTrainer:\n",
        "    \"\"\"Trainer for Seq2Seq model\"\"\"\n",
        "\n",
        "    def __init__(self, model, train_loader, val_loader, learning_rate=0.001, device=None):\n",
        "        self.model = model\n",
        "        self.train_loader = train_loader\n",
        "        self.val_loader = val_loader\n",
        "        self.device = device or torch.device('cuda' if torch.cuda.is_available() else 'cpu')\n",
        "\n",
        "        self.model.to(self.device)\n",
        "        self.optimizer = optim.Adam(model.parameters(), lr=learning_rate)\n",
        "        self.criterion = nn.CrossEntropyLoss(ignore_index=2)  # Ignore PAD token\n",
        "\n",
        "    def train_epoch(self):\n",
        "        \"\"\"Train for one epoch\"\"\"\n",
        "        self.model.train()\n",
        "        total_loss = 0\n",
        "        num_batches = 0\n",
        "\n",
        "        for batch in tqdm(self.train_loader, desc=\"Training\", leave=False):\n",
        "            urdu_seq = batch['urdu'].to(self.device)\n",
        "            roman_seq = batch['roman'].to(self.device)\n",
        "            urdu_lengths = batch['urdu_lengths']\n",
        "\n",
        "            self.optimizer.zero_grad()\n",
        "\n",
        "            # Forward pass\n",
        "            outputs = self.model(urdu_seq, roman_seq, urdu_lengths, teacher_forcing_ratio=0.5)\n",
        "\n",
        "            # Calculate loss (exclude SOS token from targets)\n",
        "            outputs = outputs[:, 1:, :].contiguous()  # [batch_size, seq_len-1, vocab_size]\n",
        "            targets = roman_seq[:, 1:].contiguous()   # [batch_size, seq_len-1]\n",
        "\n",
        "            loss = self.criterion(outputs.view(-1, outputs.size(-1)), targets.view(-1))\n",
        "\n",
        "            # Backward pass\n",
        "            loss.backward()\n",
        "            torch.nn.utils.clip_grad_norm_(self.model.parameters(), max_norm=1.0)\n",
        "            self.optimizer.step()\n",
        "\n",
        "            total_loss += loss.item()\n",
        "            num_batches += 1\n",
        "\n",
        "        return total_loss / num_batches\n",
        "\n",
        "    def validate(self):\n",
        "        \"\"\"Validate the model\"\"\"\n",
        "        self.model.eval()\n",
        "        total_loss = 0\n",
        "        num_batches = 0\n",
        "\n",
        "        with torch.no_grad():\n",
        "            for batch in tqdm(self.val_loader, desc=\"Validating\", leave=False):\n",
        "                urdu_seq = batch['urdu'].to(self.device)\n",
        "                roman_seq = batch['roman'].to(self.device)\n",
        "                urdu_lengths = batch['urdu_lengths']\n",
        "\n",
        "                # Forward pass\n",
        "                outputs = self.model(urdu_seq, roman_seq, urdu_lengths, teacher_forcing_ratio=0)\n",
        "\n",
        "                # Calculate loss\n",
        "                outputs = outputs[:, 1:, :].contiguous()\n",
        "                targets = roman_seq[:, 1:].contiguous()\n",
        "\n",
        "                loss = self.criterion(outputs.view(-1, outputs.size(-1)), targets.view(-1))\n",
        "                total_loss += loss.item()\n",
        "                num_batches += 1\n",
        "\n",
        "        return total_loss / num_batches\n",
        "\n",
        "    def train(self, num_epochs, save_path=None):\n",
        "        \"\"\"Train the model\"\"\"\n",
        "        train_losses = []\n",
        "        val_losses = []\n",
        "        best_val_loss = float('inf')\n",
        "\n",
        "        print(f\"Training on {self.device}\")\n",
        "\n",
        "        for epoch in range(num_epochs):\n",
        "            print(f\"Epoch {epoch + 1}/{num_epochs}\")\n",
        "\n",
        "            # Train\n",
        "            train_loss = self.train_epoch()\n",
        "            train_losses.append(train_loss)\n",
        "\n",
        "            # Validate\n",
        "            val_loss = self.validate()\n",
        "            val_losses.append(val_loss)\n",
        "\n",
        "            print(f\"Train Loss: {train_loss:.4f}, Val Loss: {val_loss:.4f}\")\n",
        "\n",
        "            # Save best model\n",
        "            if save_path and val_loss < best_val_loss:\n",
        "                best_val_loss = val_loss\n",
        "                torch.save(self.model.state_dict(), save_path)\n",
        "                print(f\" Best model saved to {save_path}\")\n",
        "\n",
        "            print(\"-\" * 50)\n",
        "\n",
        "        return train_losses, val_losses"
      ],
      "metadata": {
        "id": "pNj3doMctT03"
      },
      "execution_count": null,
      "outputs": []
    },
    {
      "cell_type": "markdown",
      "source": [
        "## 8.4 Evaluation Metric\n"
      ],
      "metadata": {
        "id": "J7wWUJpPtxLs"
      }
    },
    {
      "cell_type": "markdown",
      "source": [
        "**Purpose:** Provide methods to compute BLEU scores, character error rate (CER), and perplexity, offering a comprehensive way to assess translation quality and model performance."
      ],
      "metadata": {
        "id": "uVibCIsyMi7I"
      }
    },
    {
      "cell_type": "code",
      "source": [
        "class EvaluationMetrics:\n",
        "    \"\"\"Comprehensive evaluation metrics for NMT\"\"\"\n",
        "\n",
        "    def __init__(self):\n",
        "        self.smoothing_function = SmoothingFunction().method1\n",
        "\n",
        "    def calculate_bleu(self, references: List[List[str]], predictions: List[List[str]]) -> Dict[str, float]:\n",
        "        \"\"\"Calculate BLEU scores\"\"\"\n",
        "        bleu_scores = {\n",
        "            'bleu_1': 0.0,\n",
        "            'bleu_2': 0.0,\n",
        "            'bleu_3': 0.0,\n",
        "            'bleu_4': 0.0\n",
        "        }\n",
        "\n",
        "        if len(references) != len(predictions):\n",
        "            print(\"Warning: Reference and prediction lengths don't match\")\n",
        "            return bleu_scores\n",
        "\n",
        "        valid_pairs = 0\n",
        "        for ref, pred in zip(references, predictions):\n",
        "            if len(ref) > 0 and len(pred) > 0:\n",
        "                try:\n",
        "                    # Calculate individual BLEU scores\n",
        "                    bleu_1 = sentence_bleu([ref], pred, weights=(1, 0, 0, 0), smoothing_function=self.smoothing_function)\n",
        "                    bleu_2 = sentence_bleu([ref], pred, weights=(0.5, 0.5, 0, 0), smoothing_function=self.smoothing_function)\n",
        "                    bleu_3 = sentence_bleu([ref], pred, weights=(0.33, 0.33, 0.33, 0), smoothing_function=self.smoothing_function)\n",
        "                    bleu_4 = sentence_bleu([ref], pred, weights=(0.25, 0.25, 0.25, 0.25), smoothing_function=self.smoothing_function)\n",
        "\n",
        "                    bleu_scores['bleu_1'] += bleu_1\n",
        "                    bleu_scores['bleu_2'] += bleu_2\n",
        "                    bleu_scores['bleu_3'] += bleu_3\n",
        "                    bleu_scores['bleu_4'] += bleu_4\n",
        "                    valid_pairs += 1\n",
        "                except:\n",
        "                    continue\n",
        "\n",
        "        if valid_pairs > 0:\n",
        "            for key in bleu_scores:\n",
        "                bleu_scores[key] /= valid_pairs\n",
        "\n",
        "        return bleu_scores\n",
        "\n",
        "    def calculate_cer(self, references: List[str], predictions: List[str]) -> float:\n",
        "        \"\"\"Calculate Character Error Rate\"\"\"\n",
        "        if len(references) != len(predictions):\n",
        "            return 1.0\n",
        "\n",
        "        total_chars = 0\n",
        "        total_errors = 0\n",
        "\n",
        "        for ref, pred in zip(references, predictions):\n",
        "            ref_chars = list(ref.replace(' ', ''))\n",
        "            pred_chars = list(pred.replace(' ', ''))\n",
        "\n",
        "            # Simple edit distance calculation\n",
        "            errors = self._edit_distance(ref_chars, pred_chars)\n",
        "            total_errors += errors\n",
        "            total_chars += len(ref_chars)\n",
        "\n",
        "        return total_errors / total_chars if total_chars > 0 else 1.0\n",
        "\n",
        "    def _edit_distance(self, s1: List[str], s2: List[str]) -> int:\n",
        "        \"\"\"Calculate edit distance between two sequences\"\"\"\n",
        "        m, n = len(s1), len(s2)\n",
        "        dp = [[0] * (n + 1) for _ in range(m + 1)]\n",
        "\n",
        "        # Initialize\n",
        "        for i in range(m + 1):\n",
        "            dp[i][0] = i\n",
        "        for j in range(n + 1):\n",
        "            dp[0][j] = j\n",
        "\n",
        "        # Fill dp table\n",
        "        for i in range(1, m + 1):\n",
        "            for j in range(1, n + 1):\n",
        "                if s1[i-1] == s2[j-1]:\n",
        "                    dp[i][j] = dp[i-1][j-1]\n",
        "                else:\n",
        "                    dp[i][j] = 1 + min(dp[i-1][j], dp[i][j-1], dp[i-1][j-1])\n",
        "\n",
        "        return dp[m][n]\n",
        "\n",
        "    def calculate_perplexity(self, loss: float) -> float:\n",
        "        \"\"\"Calculate perplexity from loss\"\"\"\n",
        "        return np.exp(loss)\n"
      ],
      "metadata": {
        "id": "T8wjXJipt4Aq"
      },
      "execution_count": null,
      "outputs": []
    },
    {
      "cell_type": "markdown",
      "source": [
        "## 8.5 Model Evaluator"
      ],
      "metadata": {
        "id": "zIk7PbpVt6aG"
      }
    },
    {
      "cell_type": "markdown",
      "source": [
        "**Purpose:** Model evaluator for testing trained Seq2Seq models. It generates predictions, compares them with references, computes evaluation metrics (BLEU, CER, perplexity), and provides example outputs for qualitative analysis."
      ],
      "metadata": {
        "id": "ObYudhDYN2nw"
      }
    },
    {
      "cell_type": "code",
      "source": [
        "class ModelEvaluator:\n",
        "    \"\"\"Evaluate trained models\"\"\"\n",
        "\n",
        "    def __init__(self, model, test_dataset, urdu_vocab, roman_vocab, device='cpu'):\n",
        "        self.model = model\n",
        "        self.test_dataset = test_dataset\n",
        "        self.urdu_vocab = urdu_vocab\n",
        "        self.roman_vocab = roman_vocab\n",
        "        self.device = device\n",
        "        self.metrics = EvaluationMetrics()\n",
        "\n",
        "        # Create reverse vocabularies\n",
        "        self.urdu_idx2token = {idx: token for token, idx in urdu_vocab.items()}\n",
        "        self.roman_idx2token = {idx: token for token, idx in roman_vocab.items()}\n",
        "\n",
        "    def indices_to_tokens(self, indices, idx2token):\n",
        "        \"\"\"Convert indices back to tokens\"\"\"\n",
        "        tokens = []\n",
        "        for idx in indices:\n",
        "            if idx in idx2token:\n",
        "                token = idx2token[idx]\n",
        "                if token not in ['<SOS>', '<EOS>', '<PAD>']:\n",
        "                    tokens.append(token)\n",
        "            if idx == 1:  # EOS token\n",
        "                break\n",
        "        return tokens\n",
        "\n",
        "    def evaluate_model(self, num_samples=None):\n",
        "        \"\"\"Comprehensive model evaluation\"\"\"\n",
        "        print(\"Evaluating model...\")\n",
        "\n",
        "        self.model.eval()\n",
        "        predictions = []\n",
        "        references = []\n",
        "        losses = []\n",
        "\n",
        "        criterion = nn.CrossEntropyLoss(ignore_index=2)\n",
        "\n",
        "        # Evaluate on test set\n",
        "        test_loader = DataLoader(\n",
        "            self.test_dataset,\n",
        "            batch_size=1,\n",
        "            shuffle=False,\n",
        "            collate_fn=collate_fn\n",
        "        )\n",
        "\n",
        "        if num_samples:\n",
        "            test_loader = list(test_loader)[:num_samples]\n",
        "\n",
        "        with torch.no_grad():\n",
        "            for batch in tqdm(test_loader, desc=\"Evaluating\"):\n",
        "                urdu_seq = batch['urdu'].to(self.device)\n",
        "                roman_seq = batch['roman'].to(self.device)\n",
        "                urdu_lengths = batch['urdu_lengths']\n",
        "\n",
        "                # Generate prediction\n",
        "                generated = self.model.generate(urdu_seq, urdu_lengths, max_length=100)\n",
        "\n",
        "                # Convert to tokens\n",
        "                urdu_tokens = self.indices_to_tokens(urdu_seq[0].cpu().numpy(), self.urdu_idx2token)\n",
        "                roman_ref_tokens = self.indices_to_tokens(roman_seq[0].cpu().numpy(), self.roman_idx2token)\n",
        "                roman_pred_tokens = self.indices_to_tokens(generated[0].cpu().numpy(), self.roman_idx2token)\n",
        "\n",
        "                predictions.append(roman_pred_tokens)\n",
        "                references.append(roman_ref_tokens)\n",
        "\n",
        "                # Calculate loss\n",
        "                outputs = self.model(urdu_seq, roman_seq, urdu_lengths, teacher_forcing_ratio=0)\n",
        "                outputs = outputs[:, 1:, :].contiguous()\n",
        "                targets = roman_seq[:, 1:].contiguous()\n",
        "                loss = criterion(outputs.view(-1, outputs.size(-1)), targets.view(-1))\n",
        "                losses.append(loss.item())\n",
        "\n",
        "        # Calculate metrics\n",
        "        results = {}\n",
        "\n",
        "        # BLEU scores\n",
        "        bleu_scores = self.metrics.calculate_bleu(references, predictions)\n",
        "        results.update(bleu_scores)\n",
        "\n",
        "        # Character Error Rate\n",
        "        ref_strings = [' '.join(tokens) for tokens in references]\n",
        "        pred_strings = [' '.join(tokens) for tokens in predictions]\n",
        "        results['cer'] = self.metrics.calculate_cer(ref_strings, pred_strings)\n",
        "\n",
        "        # Perplexity\n",
        "        avg_loss = np.mean(losses)\n",
        "        results['loss'] = avg_loss\n",
        "        results['perplexity'] = self.metrics.calculate_perplexity(avg_loss)\n",
        "\n",
        "        # Save examples for qualitative analysis\n",
        "        results['examples'] = []\n",
        "        for i in range(min(5, len(references))):\n",
        "            results['examples'].append({\n",
        "                'reference': ' '.join(references[i]),\n",
        "                'prediction': ' '.join(predictions[i])\n",
        "            })\n",
        "\n",
        "        return results"
      ],
      "metadata": {
        "id": "pSZUVYlUt_9Y"
      },
      "execution_count": null,
      "outputs": []
    },
    {
      "cell_type": "markdown",
      "source": [
        "## 8.6 Experiment runner"
      ],
      "metadata": {
        "id": "8jG497iOuUdF"
      }
    },
    {
      "cell_type": "markdown",
      "source": [
        "**Purpose:** Automate dataset creation, training, evaluation, and comparison across experiments, producing both quantitative metrics (BLEU, perplexity, CER) and qualitative analysis for identifying the best-performing setup.\n"
      ],
      "metadata": {
        "id": "o_aLCMGtPXT7"
      }
    },
    {
      "cell_type": "code",
      "source": [
        "class ExperimentRunner:\n",
        "    \"\"\"Run multiple experiments with different configurations\"\"\"\n",
        "\n",
        "    def __init__(self, train_pairs, val_pairs, test_pairs, urdu_vocab, roman_vocab):\n",
        "        self.train_pairs = train_pairs\n",
        "        self.val_pairs = val_pairs\n",
        "        self.test_pairs = test_pairs\n",
        "        self.urdu_vocab = urdu_vocab\n",
        "        self.roman_vocab = roman_vocab\n",
        "        self.device = torch.device('cuda' if torch.cuda.is_available() else 'cpu')\n",
        "\n",
        "        self.experiment_results = []\n",
        "\n",
        "    def create_datasets(self, max_length=100):\n",
        "        \"\"\"Create datasets for experiments\"\"\"\n",
        "        train_dataset = UrduRomanDataset(self.train_pairs, self.urdu_vocab, self.roman_vocab, max_length)\n",
        "        val_dataset = UrduRomanDataset(self.val_pairs, self.urdu_vocab, self.roman_vocab, max_length)\n",
        "        test_dataset = UrduRomanDataset(self.test_pairs, self.urdu_vocab, self.roman_vocab, max_length)\n",
        "\n",
        "        return train_dataset, val_dataset, test_dataset\n",
        "\n",
        "    def run_experiment(self, config, experiment_name):\n",
        "        \"\"\"Run a single experiment\"\"\"\n",
        "        print(f\" Running Experiment: {experiment_name}\")\n",
        "        print(f\" Config: {config}\")\n",
        "\n",
        "        # Create datasets\n",
        "        train_dataset, val_dataset, test_dataset = self.create_datasets()\n",
        "\n",
        "        # Create data loaders\n",
        "        train_loader = DataLoader(\n",
        "            train_dataset,\n",
        "            batch_size=config['batch_size'],\n",
        "            shuffle=True,\n",
        "            collate_fn=collate_fn\n",
        "        )\n",
        "\n",
        "        val_loader = DataLoader(\n",
        "            val_dataset,\n",
        "            batch_size=config['batch_size'],\n",
        "            shuffle=False,\n",
        "            collate_fn=collate_fn\n",
        "        )\n",
        "\n",
        "        # Create model\n",
        "        model = Seq2SeqModel(\n",
        "            urdu_vocab_size=len(self.urdu_vocab),\n",
        "            roman_vocab_size=len(self.roman_vocab),\n",
        "            embedding_dim=config['embedding_dim'],\n",
        "            encoder_hidden_size=config['encoder_hidden_size'],\n",
        "            decoder_hidden_size=config['decoder_hidden_size'],\n",
        "            dropout=config['dropout']\n",
        "        )\n",
        "\n",
        "        # Create trainer\n",
        "        trainer = Seq2SeqTrainer(\n",
        "            model=model,\n",
        "            train_loader=train_loader,\n",
        "            val_loader=val_loader,\n",
        "            learning_rate=config['learning_rate'],\n",
        "            device=self.device\n",
        "        )\n",
        "\n",
        "        # Train model (reduced epochs for experiments)\n",
        "        train_losses, val_losses = trainer.train(\n",
        "            num_epochs=config['num_epochs'],\n",
        "            save_path=f\"{experiment_name}_model.pth\"\n",
        "        )\n",
        "\n",
        "        # Evaluate model\n",
        "        evaluator = ModelEvaluator(model, test_dataset, self.urdu_vocab, self.roman_vocab, self.device)\n",
        "        eval_results = evaluator.evaluate_model(num_samples=50)  # Evaluate on 50 samples for speed\n",
        "\n",
        "        # Store results\n",
        "        experiment_result = {\n",
        "            'name': experiment_name,\n",
        "            'config': config,\n",
        "            'train_losses': train_losses,\n",
        "            'val_losses': val_losses,\n",
        "            'final_train_loss': train_losses[-1],\n",
        "            'final_val_loss': val_losses[-1],\n",
        "            'eval_results': eval_results\n",
        "        }\n",
        "\n",
        "        self.experiment_results.append(experiment_result)\n",
        "\n",
        "        print(f\" {experiment_name} completed!\")\n",
        "        print(f\" Results: BLEU-4: {eval_results['bleu_4']:.3f}, PPL: {eval_results['perplexity']:.2f}, CER: {eval_results['cer']:.3f}\")\n",
        "        print(\"-\" * 60)\n",
        "\n",
        "        return experiment_result\n",
        "\n",
        "    def run_all_experiments(self):\n",
        "        \"\"\"Run all required experiments\"\"\"\n",
        "\n",
        "        # Base configuration\n",
        "        base_config = {\n",
        "            'embedding_dim': 256,\n",
        "            'encoder_hidden_size': 512,\n",
        "            'decoder_hidden_size': 512,\n",
        "            'dropout': 0.3,\n",
        "            'batch_size': 32,\n",
        "            'learning_rate': 0.001,\n",
        "            'num_epochs': 5  # Reduced for experiments\n",
        "        }\n",
        "\n",
        "        # Experiment 1: Different embedding dimensions\n",
        "        config1 = base_config.copy()\n",
        "        config1['embedding_dim'] = 128\n",
        "        self.run_experiment(config1, \"Experiment_1_Emb128\")\n",
        "\n",
        "        # Experiment 2: Different hidden size\n",
        "        config2 = base_config.copy()\n",
        "        config2['encoder_hidden_size'] = 256\n",
        "        config2['decoder_hidden_size'] = 256\n",
        "        self.run_experiment(config2, \"Experiment_2_Hidden256\")\n",
        "\n",
        "        # Experiment 3: Different dropout rate\n",
        "        config3 = base_config.copy()\n",
        "        config3['dropout'] = 0.5\n",
        "        self.run_experiment(config3, \"Experiment_3_Dropout05\")\n",
        "\n",
        "        # Experiment 4: Different learning rate\n",
        "        config4 = base_config.copy()\n",
        "        config4['learning_rate'] = 0.0005\n",
        "        self.run_experiment(config4, \"Experiment_4_LR0005\")\n",
        "\n",
        "        return self.experiment_results\n",
        "\n",
        "    def analyze_experiments(self):\n",
        "        \"\"\"Analyze and compare experiment results\"\"\"\n",
        "        print(\" EXPERIMENT ANALYSIS\")\n",
        "        print(\"=\" * 60)\n",
        "\n",
        "        # Create comparison table\n",
        "        comparison_data = []\n",
        "        for result in self.experiment_results:\n",
        "            comparison_data.append({\n",
        "                'Experiment': result['name'],\n",
        "                'Embedding_Dim': result['config']['embedding_dim'],\n",
        "                'Hidden_Size': result['config']['encoder_hidden_size'],\n",
        "                'Dropout': result['config']['dropout'],\n",
        "                'Learning_Rate': result['config']['learning_rate'],\n",
        "                'Final_Train_Loss': f\"{result['final_train_loss']:.3f}\",\n",
        "                'Final_Val_Loss': f\"{result['final_val_loss']:.3f}\",\n",
        "                'BLEU-1': f\"{result['eval_results']['bleu_1']:.3f}\",\n",
        "                'BLEU-4': f\"{result['eval_results']['bleu_4']:.3f}\",\n",
        "                'Perplexity': f\"{result['eval_results']['perplexity']:.2f}\",\n",
        "                'CER': f\"{result['eval_results']['cer']:.3f}\"\n",
        "            })\n",
        "\n",
        "        df = pd.DataFrame(comparison_data)\n",
        "        print(df.to_string(index=False))\n",
        "\n",
        "        # Save results\n",
        "        df.to_csv('/content/drive/MyDrive/ANLP/A1/experiment_results.csv', index=False)\n",
        "\n",
        "        # Plot comparisons\n",
        "        fig, axes = plt.subplots(2, 2, figsize=(15, 12))\n",
        "\n",
        "        experiments = [r['name'].replace('Experiment_', '') for r in self.experiment_results]\n",
        "\n",
        "        # BLEU-4 scores\n",
        "        bleu4_scores = [r['eval_results']['bleu_4'] for r in self.experiment_results]\n",
        "        axes[0, 0].bar(experiments, bleu4_scores)\n",
        "        axes[0, 0].set_title('BLEU-4 Scores by Experiment')\n",
        "        axes[0, 0].set_ylabel('BLEU-4 Score')\n",
        "        axes[0, 0].tick_params(axis='x', rotation=45)\n",
        "\n",
        "        # Perplexity\n",
        "        perplexities = [r['eval_results']['perplexity'] for r in self.experiment_results]\n",
        "        axes[0, 1].bar(experiments, perplexities)\n",
        "        axes[0, 1].set_title('Perplexity by Experiment')\n",
        "        axes[0, 1].set_ylabel('Perplexity')\n",
        "        axes[0, 1].tick_params(axis='x', rotation=45)\n",
        "\n",
        "        # CER\n",
        "        cer_scores = [r['eval_results']['cer'] for r in self.experiment_results]\n",
        "        axes[1, 0].bar(experiments, cer_scores)\n",
        "        axes[1, 0].set_title('Character Error Rate by Experiment')\n",
        "        axes[1, 0].set_ylabel('CER')\n",
        "        axes[1, 0].tick_params(axis='x', rotation=45)\n",
        "\n",
        "        # Training curves for best experiment\n",
        "        best_exp = min(self.experiment_results, key=lambda x: x['final_val_loss'])\n",
        "        axes[1, 1].plot(best_exp['train_losses'], label='Train Loss')\n",
        "        axes[1, 1].plot(best_exp['val_losses'], label='Val Loss')\n",
        "        axes[1, 1].set_title(f'Training Curves - Best Experiment ({best_exp[\"name\"]})')\n",
        "        axes[1, 1].set_xlabel('Epoch')\n",
        "        axes[1, 1].set_ylabel('Loss')\n",
        "        axes[1, 1].legend()\n",
        "\n",
        "        plt.tight_layout()\n",
        "        plt.savefig('/content/drive/MyDrive/ANLP/A1/experiment_analysis.png', dpi=300, bbox_inches='tight')\n",
        "        plt.show()\n",
        "\n",
        "        # Best model analysis\n",
        "        print(f\"\\n BEST EXPERIMENT: {best_exp['name']}\")\n",
        "        print(f\" Best Val Loss: {best_exp['final_val_loss']:.3f}\")\n",
        "        print(f\" BLEU-4: {best_exp['eval_results']['bleu_4']:.3f}\")\n",
        "        print(f\" Perplexity: {best_exp['eval_results']['perplexity']:.2f}\")\n",
        "        print(f\" CER: {best_exp['eval_results']['cer']:.3f}\")\n",
        "\n",
        "        print(\"\\n QUALITATIVE EXAMPLES FROM BEST MODEL:\")\n",
        "        for i, example in enumerate(best_exp['eval_results']['examples'][:3]):\n",
        "            print(f\"Example {i+1}:\")\n",
        "            print(f\"  Reference: {example['reference']}\")\n",
        "            print(f\"  Prediction: {example['prediction']}\")\n",
        "            print()\n",
        "\n",
        "        return df, best_exp"
      ],
      "metadata": {
        "id": "Kvnyb0OzuWgY"
      },
      "execution_count": null,
      "outputs": []
    },
    {
      "cell_type": "markdown",
      "source": [
        "## 8.7 Data Creation"
      ],
      "metadata": {
        "id": "PKu8C0PZuqNA"
      }
    },
    {
      "cell_type": "markdown",
      "source": [
        "**Purpose:** Creates test splits, builds vocabularies with special tokens, and returns everything for use in training and evaluation.\n"
      ],
      "metadata": {
        "id": "eTKOI7I4QEod"
      }
    },
    {
      "cell_type": "code",
      "source": [
        "def create_sample_data():\n",
        "    \"\"\"Create sample data for testing if real data is not available\"\"\"\n",
        "    print(\" Creating sample data for testing...\")\n",
        "\n",
        "    # Sample Urdu to Roman Urdu pairs\n",
        "    sample_pairs = [\n",
        "        ([\"یہ\", \"ایک\", \"خوبصورت\", \"دن\", \"ہے\"], [\"yeh\", \"ek\", \"khubsurat\", \"din\", \"hai\"]),\n",
        "        ([\"میں\", \"آپ\", \"سے\", \"محبت\", \"کرتا\", \"ہوں\"], [\"main\", \"aap\", \"se\", \"mohabbat\", \"karta\", \"hun\"]),\n",
        "        ([\"سورج\", \"آسمان\", \"میں\", \"چمک\", \"رہا\", \"ہے\"], [\"suraj\", \"aasman\", \"mein\", \"chamak\", \"raha\", \"hai\"]),\n",
        "        ([\"پھول\", \"بہت\", \"خوشبو\", \"دار\", \"ہیں\"], [\"phool\", \"bahut\", \"khushbu\", \"dar\", \"hain\"]),\n",
        "        ([\"بچے\", \"کھیل\", \"رہے\", \"ہیں\"], [\"bachay\", \"khel\", \"rahay\", \"hain\"]),\n",
        "        ([\"کتاب\", \"پڑھنا\", \"اچھا\", \"ہے\"], [\"kitab\", \"parhna\", \"acha\", \"hai\"]),\n",
        "        ([\"رات\", \"بہت\", \"اندھیری\", \"ہے\"], [\"raat\", \"bahut\", \"andheri\", \"hai\"]),\n",
        "        ([\"پانی\", \"صاف\", \"اور\", \"ٹھنڈا\", \"ہے\"], [\"pani\", \"saaf\", \"aur\", \"thanda\", \"hai\"]),\n",
        "        ([\"درخت\", \"سبز\", \"اور\", \"تازہ\", \"ہیں\"], [\"darakht\", \"sabz\", \"aur\", \"taza\", \"hain\"]),\n",
        "        ([\"آج\", \"موسم\", \"بہت\", \"خوشگوار\", \"ہے\"], [\"aaj\", \"mosam\", \"bahut\", \"khushgawar\", \"hai\"])\n",
        "    ]\n",
        "\n",
        "    # Extend sample data\n",
        "    extended_pairs = sample_pairs * 100  # Repeat to have more data\n",
        "\n",
        "    # Split data\n",
        "    total_size = len(extended_pairs)\n",
        "    train_size = int(0.5 * total_size)\n",
        "    val_size = int(0.25 * total_size)\n",
        "\n",
        "    train_pairs = extended_pairs[:train_size]\n",
        "    val_pairs = extended_pairs[train_size:train_size + val_size]\n",
        "    test_pairs = extended_pairs[train_size + val_size:]\n",
        "\n",
        "    # Create vocabularies\n",
        "    urdu_tokens = set()\n",
        "    roman_tokens = set()\n",
        "\n",
        "    for urdu, roman in extended_pairs:\n",
        "        urdu_tokens.update(urdu)\n",
        "        roman_tokens.update(roman)\n",
        "\n",
        "    # Add special tokens\n",
        "    urdu_vocab = {'<PAD>': 0, '<SOS>': 1, '<EOS>': 2, '<UNK>': 3}\n",
        "    roman_vocab = {'<PAD>': 0, '<SOS>': 1, '<EOS>': 2, '<UNK>': 3}\n",
        "\n",
        "    for i, token in enumerate(urdu_tokens, 4):\n",
        "        urdu_vocab[token] = i\n",
        "\n",
        "    for i, token in enumerate(roman_tokens, 4):\n",
        "        roman_vocab[token] = i\n",
        "\n",
        "    return train_pairs, val_pairs, test_pairs, urdu_vocab, roman_vocab\n"
      ],
      "metadata": {
        "id": "TOQMiYsAvHY3"
      },
      "execution_count": null,
      "outputs": []
    },
    {
      "cell_type": "markdown",
      "source": [
        "## 8.8 Main Execution for Experiments\n"
      ],
      "metadata": {
        "id": "5iCEDCD6vJWa"
      }
    },
    {
      "cell_type": "markdown",
      "source": [
        "**Purpose:** Creates datasets, initializes the experiment runner, executes multiple model configurations, and then analyzes and saves the results.\n"
      ],
      "metadata": {
        "id": "KVRaEhAIRS21"
      }
    },
    {
      "cell_type": "code",
      "source": [
        "\n",
        "\n",
        "def run_experiments():\n",
        "    \"\"\"Main function to run all experiments\"\"\"\n",
        "    print(\" STARTING COMPREHENSIVE EXPERIMENTS\")\n",
        "    print(\"=\" * 60)\n",
        "\n",
        "    # Try to load real data, create test split if missing\n",
        "    try:\n",
        "        # Load real data and tokenizers\n",
        "        with open('processed_data/train_tokenized.json', 'r', encoding='utf-8') as f:\n",
        "            train_pairs = json.load(f)\n",
        "\n",
        "        with open('processed_data/val_tokenized.json', 'r', encoding='utf-8') as f:\n",
        "            val_pairs = json.load(f)\n",
        "\n",
        "        with open('processed_data/urdu_tokenizer.pkl', 'rb') as f:\n",
        "            urdu_tokenizer = pickle.load(f)\n",
        "\n",
        "        with open('processed_data/roman_tokenizer.pkl', 'rb') as f:\n",
        "            roman_tokenizer = pickle.load(f)\n",
        "\n",
        "        urdu_vocab = urdu_tokenizer['vocab']\n",
        "        roman_vocab = roman_tokenizer['vocab']\n",
        "\n",
        "        # Check if test data exists, if not create it from validation data\n",
        "        try:\n",
        "            with open('processed_data/test_tokenized.json', 'r', encoding='utf-8') as f:\n",
        "                test_pairs = json.load(f)\n",
        "            print(\" Loaded existing test data\")\n",
        "        except FileNotFoundError:\n",
        "            # Create test split from validation data (50% val, 50% test)\n",
        "            print(\" Test data not found. Creating test split from validation data...\")\n",
        "            import random\n",
        "            random.shuffle(val_pairs)\n",
        "            mid_point = len(val_pairs) // 2\n",
        "            test_pairs = val_pairs[mid_point:]\n",
        "            val_pairs = val_pairs[:mid_point]\n",
        "\n",
        "            # Save the new test split\n",
        "            with open('processed_data/test_tokenized.json', 'w', encoding='utf-8') as f:\n",
        "                json.dump(test_pairs, f, ensure_ascii=False, indent=2)\n",
        "\n",
        "            # Save the updated validation split\n",
        "            with open('processed_data/val_tokenized.json', 'w', encoding='utf-8') as f:\n",
        "                json.dump(val_pairs, f, ensure_ascii=False, indent=2)\n",
        "\n",
        "            print(\" Created test split and updated validation split\")\n",
        "\n",
        "        print(\" Loaded preprocessed data successfully!\")\n",
        "\n",
        "    except FileNotFoundError:\n",
        "        print(\" Preprocessed data not found. Creating sample data for testing...\")\n",
        "        train_pairs, val_pairs, test_pairs, urdu_vocab, roman_vocab = create_sample_data()\n",
        "\n",
        "    print(f\" Dataset sizes: Train={len(train_pairs)}, Val={len(val_pairs)}, Test={len(test_pairs)}\")\n",
        "    print(f\" Vocab sizes: Urdu={len(urdu_vocab)}, Roman={len(roman_vocab)}\")\n",
        "\n",
        "    # Create experiment runner\n",
        "    runner = ExperimentRunner(\n",
        "        train_pairs, val_pairs, test_pairs,\n",
        "        urdu_vocab, roman_vocab\n",
        "    )\n",
        "\n",
        "    # Run all experiments\n",
        "    results = runner.run_all_experiments()\n",
        "\n",
        "    # Analyze results\n",
        "    comparison_df, best_experiment = runner.analyze_experiments()\n",
        "\n",
        "    print(\" ALL EXPERIMENTS COMPLETED!\")\n",
        "    print(f\" Results saved to: experiment_results.csv\")\n",
        "    print(f\" Plots saved to: experiment_analysis.png\")\n",
        "\n",
        "    return results, comparison_df, best_experiment"
      ],
      "metadata": {
        "id": "r3pF5Z29vNW-"
      },
      "execution_count": null,
      "outputs": []
    },
    {
      "cell_type": "markdown",
      "source": [
        "## 8.9 Demo"
      ],
      "metadata": {
        "id": "jtaC9Vd9vPsH"
      }
    },
    {
      "cell_type": "markdown",
      "source": [
        "**Purpose:** Allows running either a quick demo with sample data or full experiments, handling training, evaluation, and displaying results interactively.\n"
      ],
      "metadata": {
        "id": "Tkjs7RH8Se9y"
      }
    },
    {
      "cell_type": "code",
      "source": [
        "def run_simple_demo():\n",
        "    \"\"\"Run a simple demo with one configuration\"\"\"\n",
        "    print(\" RUNNING SIMPLE DEMO\")\n",
        "    print(\"=\" * 40)\n",
        "\n",
        "    # Create sample data\n",
        "    train_pairs, val_pairs, test_pairs, urdu_vocab, roman_vocab = create_sample_data()\n",
        "\n",
        "    print(f\" Dataset sizes: Train={len(train_pairs)}, Val={len(val_pairs)}, Test={len(test_pairs)}\")\n",
        "\n",
        "    # Create datasets\n",
        "    train_dataset = UrduRomanDataset(train_pairs, urdu_vocab, roman_vocab)\n",
        "    val_dataset = UrduRomanDataset(val_pairs, urdu_vocab, roman_vocab)\n",
        "    test_dataset = UrduRomanDataset(test_pairs, urdu_vocab, roman_vocab)\n",
        "\n",
        "    # Create data loaders\n",
        "    train_loader = DataLoader(train_dataset, batch_size=16, shuffle=True, collate_fn=collate_fn)\n",
        "    val_loader = DataLoader(val_dataset, batch_size=16, shuffle=False, collate_fn=collate_fn)\n",
        "\n",
        "    # Create model\n",
        "    device = torch.device('cuda' if torch.cuda.is_available() else 'cpu')\n",
        "    model = Seq2SeqModel(\n",
        "        urdu_vocab_size=len(urdu_vocab),\n",
        "        roman_vocab_size=len(roman_vocab),\n",
        "        embedding_dim=128,\n",
        "        encoder_hidden_size=256,\n",
        "        decoder_hidden_size=256,\n",
        "        dropout=0.3\n",
        "    )\n",
        "\n",
        "    # Train model\n",
        "    trainer = Seq2SeqTrainer(model, train_loader, val_loader, learning_rate=0.001, device=device)\n",
        "    train_losses, val_losses = trainer.train(num_epochs=3, save_path=\"demo_model.pth\")\n",
        "\n",
        "    # Evaluate\n",
        "    evaluator = ModelEvaluator(model, test_dataset, urdu_vocab, roman_vocab, device)\n",
        "    results = evaluator.evaluate_model(num_samples=20)\n",
        "\n",
        "    print(\"\\n DEMO RESULTS:\")\n",
        "    print(f\"BLEU-4: {results['bleu_4']:.3f}\")\n",
        "    print(f\"Perplexity: {results['perplexity']:.2f}\")\n",
        "    print(f\"CER: {results['cer']:.3f}\")\n",
        "\n",
        "    print(\"\\n SAMPLE TRANSLATIONS:\")\n",
        "    for i, example in enumerate(results['examples'][:3]):\n",
        "        print(f\"Example {i+1}:\")\n",
        "        print(f\"  Reference: {example['reference']}\")\n",
        "        print(f\"  Prediction: {example['prediction']}\")\n",
        "\n",
        "    return model, results\n",
        "\n",
        "if __name__ == \"__main__\":\n",
        "    # Install required packages\n",
        "    import subprocess\n",
        "    import sys\n",
        "\n",
        "    try:\n",
        "        import nltk\n",
        "        nltk.download('punkt', quiet=True)\n",
        "    except ImportError:\n",
        "        subprocess.check_call([sys.executable, \"-m\", \"pip\", \"install\", \"nltk\"])\n",
        "        import nltk\n",
        "        nltk.download('punkt', quiet=True)\n",
        "\n",
        "    # Choose what to run\n",
        "    print(\"Choose mode:\")\n",
        "    print(\"1. Run simple demo (quick test)\")\n",
        "    print(\"2. Run full experiments (takes longer)\")\n",
        "\n",
        "    try:\n",
        "        choice = input(\"Enter choice (1 or 2): \").strip()\n",
        "        if choice == \"1\":\n",
        "            model, results = run_simple_demo()\n",
        "        else:\n",
        "            results, comparison_df, best_experiment = run_experiments()\n",
        "    except KeyboardInterrupt:\n",
        "        print(\"\\n  Execution interrupted by user\")\n",
        "    except Exception as e:\n",
        "        print(f\" Error: {e}\")\n",
        "        import traceback\n",
        "        traceback.print_exc()"
      ],
      "metadata": {
        "id": "bnWo39u-sXKQ",
        "colab": {
          "base_uri": "https://localhost:8080/",
          "height": 1000
        },
        "outputId": "082348a7-35d9-444e-e370-38a93dd502b8"
      },
      "execution_count": null,
      "outputs": [
        {
          "output_type": "stream",
          "name": "stdout",
          "text": [
            "Choose mode:\n",
            "1. Run simple demo (quick test)\n",
            "2. Run full experiments (takes longer)\n",
            "Enter choice (1 or 2): 2\n",
            " STARTING COMPREHENSIVE EXPERIMENTS\n",
            "============================================================\n",
            " Preprocessed data not found. Creating sample data for testing...\n",
            " Creating sample data for testing...\n",
            " Dataset sizes: Train=500, Val=250, Test=250\n",
            " Vocab sizes: Urdu=42, Roman=43\n",
            " Running Experiment: Experiment_1_Emb128\n",
            " Config: {'embedding_dim': 128, 'encoder_hidden_size': 512, 'decoder_hidden_size': 512, 'dropout': 0.3, 'batch_size': 32, 'learning_rate': 0.001, 'num_epochs': 5}\n",
            "Training on cpu\n",
            "Epoch 1/5\n"
          ]
        },
        {
          "output_type": "stream",
          "name": "stderr",
          "text": []
        },
        {
          "output_type": "stream",
          "name": "stdout",
          "text": [
            "Train Loss: 2.8361, Val Loss: 1.6132\n",
            " Best model saved to Experiment_1_Emb128_model.pth\n",
            "--------------------------------------------------\n",
            "Epoch 2/5\n"
          ]
        },
        {
          "output_type": "stream",
          "name": "stderr",
          "text": []
        },
        {
          "output_type": "stream",
          "name": "stdout",
          "text": [
            "Train Loss: 0.7637, Val Loss: 0.2299\n",
            " Best model saved to Experiment_1_Emb128_model.pth\n",
            "--------------------------------------------------\n",
            "Epoch 3/5\n"
          ]
        },
        {
          "output_type": "stream",
          "name": "stderr",
          "text": []
        },
        {
          "output_type": "stream",
          "name": "stdout",
          "text": [
            "Train Loss: 0.1406, Val Loss: 0.0531\n",
            " Best model saved to Experiment_1_Emb128_model.pth\n",
            "--------------------------------------------------\n",
            "Epoch 4/5\n"
          ]
        },
        {
          "output_type": "stream",
          "name": "stderr",
          "text": []
        },
        {
          "output_type": "stream",
          "name": "stdout",
          "text": [
            "Train Loss: 0.0475, Val Loss: 0.0227\n",
            " Best model saved to Experiment_1_Emb128_model.pth\n",
            "--------------------------------------------------\n",
            "Epoch 5/5\n"
          ]
        },
        {
          "output_type": "stream",
          "name": "stderr",
          "text": []
        },
        {
          "output_type": "stream",
          "name": "stdout",
          "text": [
            "Train Loss: 0.0198, Val Loss: 0.0117\n",
            " Best model saved to Experiment_1_Emb128_model.pth\n",
            "--------------------------------------------------\n",
            "Evaluating model...\n"
          ]
        },
        {
          "output_type": "stream",
          "name": "stderr",
          "text": [
            "Evaluating: 100%|██████████| 50/50 [00:07<00:00,  6.40it/s]\n"
          ]
        },
        {
          "output_type": "stream",
          "name": "stdout",
          "text": [
            " Experiment_1_Emb128 completed!\n",
            " Results: BLEU-4: 0.987, PPL: 1.01, CER: 0.008\n",
            "------------------------------------------------------------\n",
            " Running Experiment: Experiment_2_Hidden256\n",
            " Config: {'embedding_dim': 256, 'encoder_hidden_size': 256, 'decoder_hidden_size': 256, 'dropout': 0.3, 'batch_size': 32, 'learning_rate': 0.001, 'num_epochs': 5}\n",
            "Training on cpu\n",
            "Epoch 1/5\n"
          ]
        },
        {
          "output_type": "stream",
          "name": "stderr",
          "text": []
        },
        {
          "output_type": "stream",
          "name": "stdout",
          "text": [
            "Train Loss: 3.1855, Val Loss: 2.4220\n",
            " Best model saved to Experiment_2_Hidden256_model.pth\n",
            "--------------------------------------------------\n",
            "Epoch 2/5\n"
          ]
        },
        {
          "output_type": "stream",
          "name": "stderr",
          "text": []
        },
        {
          "output_type": "stream",
          "name": "stdout",
          "text": [
            "Train Loss: 1.6649, Val Loss: 0.8066\n",
            " Best model saved to Experiment_2_Hidden256_model.pth\n",
            "--------------------------------------------------\n",
            "Epoch 3/5\n"
          ]
        },
        {
          "output_type": "stream",
          "name": "stderr",
          "text": []
        },
        {
          "output_type": "stream",
          "name": "stdout",
          "text": [
            "Train Loss: 0.5238, Val Loss: 0.2970\n",
            " Best model saved to Experiment_2_Hidden256_model.pth\n",
            "--------------------------------------------------\n",
            "Epoch 4/5\n"
          ]
        },
        {
          "output_type": "stream",
          "name": "stderr",
          "text": []
        },
        {
          "output_type": "stream",
          "name": "stdout",
          "text": [
            "Train Loss: 0.2065, Val Loss: 0.1372\n",
            " Best model saved to Experiment_2_Hidden256_model.pth\n",
            "--------------------------------------------------\n",
            "Epoch 5/5\n"
          ]
        },
        {
          "output_type": "stream",
          "name": "stderr",
          "text": []
        },
        {
          "output_type": "stream",
          "name": "stdout",
          "text": [
            "Train Loss: 0.0995, Val Loss: 0.0946\n",
            " Best model saved to Experiment_2_Hidden256_model.pth\n",
            "--------------------------------------------------\n",
            "Evaluating model...\n"
          ]
        },
        {
          "output_type": "stream",
          "name": "stderr",
          "text": [
            "Evaluating: 100%|██████████| 50/50 [00:02<00:00, 20.41it/s]\n"
          ]
        },
        {
          "output_type": "stream",
          "name": "stdout",
          "text": [
            " Experiment_2_Hidden256 completed!\n",
            " Results: BLEU-4: 0.830, PPL: 1.09, CER: 0.086\n",
            "------------------------------------------------------------\n",
            " Running Experiment: Experiment_3_Dropout05\n",
            " Config: {'embedding_dim': 256, 'encoder_hidden_size': 512, 'decoder_hidden_size': 512, 'dropout': 0.5, 'batch_size': 32, 'learning_rate': 0.001, 'num_epochs': 5}\n",
            "Training on cpu\n",
            "Epoch 1/5\n"
          ]
        },
        {
          "output_type": "stream",
          "name": "stderr",
          "text": []
        },
        {
          "output_type": "stream",
          "name": "stdout",
          "text": [
            "Train Loss: 2.7851, Val Loss: 1.4338\n",
            " Best model saved to Experiment_3_Dropout05_model.pth\n",
            "--------------------------------------------------\n",
            "Epoch 2/5\n"
          ]
        },
        {
          "output_type": "stream",
          "name": "stderr",
          "text": []
        },
        {
          "output_type": "stream",
          "name": "stdout",
          "text": [
            "Train Loss: 0.6704, Val Loss: 0.2000\n",
            " Best model saved to Experiment_3_Dropout05_model.pth\n",
            "--------------------------------------------------\n",
            "Epoch 3/5\n"
          ]
        },
        {
          "output_type": "stream",
          "name": "stderr",
          "text": []
        },
        {
          "output_type": "stream",
          "name": "stdout",
          "text": [
            "Train Loss: 0.1249, Val Loss: 0.0702\n",
            " Best model saved to Experiment_3_Dropout05_model.pth\n",
            "--------------------------------------------------\n",
            "Epoch 4/5\n"
          ]
        },
        {
          "output_type": "stream",
          "name": "stderr",
          "text": []
        },
        {
          "output_type": "stream",
          "name": "stdout",
          "text": [
            "Train Loss: 0.0372, Val Loss: 0.0194\n",
            " Best model saved to Experiment_3_Dropout05_model.pth\n",
            "--------------------------------------------------\n",
            "Epoch 5/5\n"
          ]
        },
        {
          "output_type": "stream",
          "name": "stderr",
          "text": []
        },
        {
          "output_type": "stream",
          "name": "stdout",
          "text": [
            "Train Loss: 0.0161, Val Loss: 0.0095\n",
            " Best model saved to Experiment_3_Dropout05_model.pth\n",
            "--------------------------------------------------\n",
            "Evaluating model...\n"
          ]
        },
        {
          "output_type": "stream",
          "name": "stderr",
          "text": [
            "Evaluating: 100%|██████████| 50/50 [00:08<00:00,  6.10it/s]\n"
          ]
        },
        {
          "output_type": "stream",
          "name": "stdout",
          "text": [
            " Experiment_3_Dropout05 completed!\n",
            " Results: BLEU-4: 0.951, PPL: 1.01, CER: 0.021\n",
            "------------------------------------------------------------\n",
            " Running Experiment: Experiment_4_LR0005\n",
            " Config: {'embedding_dim': 256, 'encoder_hidden_size': 512, 'decoder_hidden_size': 512, 'dropout': 0.3, 'batch_size': 32, 'learning_rate': 0.0005, 'num_epochs': 5}\n",
            "Training on cpu\n",
            "Epoch 1/5\n"
          ]
        },
        {
          "output_type": "stream",
          "name": "stderr",
          "text": []
        },
        {
          "output_type": "stream",
          "name": "stdout",
          "text": [
            "Train Loss: 3.1627, Val Loss: 2.3165\n",
            " Best model saved to Experiment_4_LR0005_model.pth\n",
            "--------------------------------------------------\n",
            "Epoch 2/5\n"
          ]
        },
        {
          "output_type": "stream",
          "name": "stderr",
          "text": []
        },
        {
          "output_type": "stream",
          "name": "stdout",
          "text": [
            "Train Loss: 1.4287, Val Loss: 0.5673\n",
            " Best model saved to Experiment_4_LR0005_model.pth\n",
            "--------------------------------------------------\n",
            "Epoch 3/5\n"
          ]
        },
        {
          "output_type": "stream",
          "name": "stderr",
          "text": []
        },
        {
          "output_type": "stream",
          "name": "stdout",
          "text": [
            "Train Loss: 0.3762, Val Loss: 0.1875\n",
            " Best model saved to Experiment_4_LR0005_model.pth\n",
            "--------------------------------------------------\n",
            "Epoch 4/5\n"
          ]
        },
        {
          "output_type": "stream",
          "name": "stderr",
          "text": []
        },
        {
          "output_type": "stream",
          "name": "stdout",
          "text": [
            "Train Loss: 0.1410, Val Loss: 0.1075\n",
            " Best model saved to Experiment_4_LR0005_model.pth\n",
            "--------------------------------------------------\n",
            "Epoch 5/5\n"
          ]
        },
        {
          "output_type": "stream",
          "name": "stderr",
          "text": []
        },
        {
          "output_type": "stream",
          "name": "stdout",
          "text": [
            "Train Loss: 0.0637, Val Loss: 0.0452\n",
            " Best model saved to Experiment_4_LR0005_model.pth\n",
            "--------------------------------------------------\n",
            "Evaluating model...\n"
          ]
        },
        {
          "output_type": "stream",
          "name": "stderr",
          "text": [
            "Evaluating: 100%|██████████| 50/50 [00:08<00:00,  6.11it/s]\n"
          ]
        },
        {
          "output_type": "stream",
          "name": "stdout",
          "text": [
            " Experiment_4_LR0005 completed!\n",
            " Results: BLEU-4: 0.782, PPL: 1.04, CER: 0.090\n",
            "------------------------------------------------------------\n",
            " EXPERIMENT ANALYSIS\n",
            "============================================================\n",
            "            Experiment  Embedding_Dim  Hidden_Size  Dropout  Learning_Rate Final_Train_Loss Final_Val_Loss BLEU-1 BLEU-4 Perplexity   CER\n",
            "   Experiment_1_Emb128            128          512      0.3         0.0010            0.020          0.012  0.994  0.987       1.01 0.008\n",
            "Experiment_2_Hidden256            256          256      0.3         0.0010            0.099          0.095  0.923  0.830       1.09 0.086\n",
            "Experiment_3_Dropout05            256          512      0.5         0.0010            0.016          0.010  0.980  0.951       1.01 0.021\n",
            "   Experiment_4_LR0005            256          512      0.3         0.0005            0.064          0.045  0.920  0.782       1.04 0.090\n"
          ]
        },
        {
          "output_type": "display_data",
          "data": {
            "text/plain": [
              "<Figure size 1500x1200 with 4 Axes>"
            ],
            "image/png": "[encoded data removed]"
          },
          "metadata": {}
        },
        {
          "output_type": "stream",
          "name": "stdout",
          "text": [
            "\n",
            " BEST EXPERIMENT: Experiment_3_Dropout05\n",
            " Best Val Loss: 0.010\n",
            " BLEU-4: 0.951\n",
            " Perplexity: 1.01\n",
            " CER: 0.021\n",
            "\n",
            " QUALITATIVE EXAMPLES FROM BEST MODEL:\n",
            "Example 1:\n",
            "  Reference: yeh ek khubsurat din hai\n",
            "  Prediction: yeh ek khubsurat din hai\n",
            "\n",
            "Example 2:\n",
            "  Reference: main aap se mohabbat karta hun\n",
            "  Prediction: main aap se mohabbat karta hun\n",
            "\n",
            "Example 3:\n",
            "  Reference: suraj aasman mein chamak raha hai\n",
            "  Prediction: suraj aasman mein mein raha hai\n",
            "\n",
            " ALL EXPERIMENTS COMPLETED!\n",
            " Results saved to: experiment_results.csv\n",
            " Plots saved to: experiment_analysis.png\n"
          ]
        }
      ]
    }
  ]
}